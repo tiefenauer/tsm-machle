{
 "cells": [
  {
   "cell_type": "markdown",
   "metadata": {
    "deletable": true,
    "editable": true
   },
   "source": [
    "### PCA with Tensorflow\n",
    "\n",
    "In this notebook, we calculate a simple PCA from 2d $\\rightarrow$ 1d by minimizing the reconstruction error."
   ]
  },
  {
   "cell_type": "code",
   "execution_count": 1,
   "metadata": {
    "collapsed": true,
    "deletable": true,
    "editable": true
   },
   "outputs": [],
   "source": [
    "import tensorflow as tf\n",
    "import numpy as np\n",
    "import matplotlib.pyplot as plt\n",
    "%matplotlib inline"
   ]
  },
  {
   "cell_type": "code",
   "execution_count": 2,
   "metadata": {
    "collapsed": false,
    "deletable": true,
    "editable": true
   },
   "outputs": [
    {
     "data": {
      "text/plain": [
       "array([[ 0.95445112,  0.29836731],\n",
       "       [ 0.29836731, -0.95445112]])"
      ]
     },
     "execution_count": 2,
     "metadata": {},
     "output_type": "execute_result"
    }
   ],
   "source": [
    "X = np.reshape(np.asarray((-1.64,-0.4,-1.84,-0.9,-0.84,0.1,2.16,0.1,2.16,1.1)),(5,2))\n",
    "from sklearn.decomposition import PCA\n",
    "pca = PCA(n_components=2)\n",
    "res = pca.fit_transform(X)\n",
    "W = pca.transform(np.identity(2))\n",
    "W #The transformation"
   ]
  },
  {
   "cell_type": "markdown",
   "metadata": {
    "deletable": true,
    "editable": true
   },
   "source": [
    "### PCA via reconstruction error\n",
    "\n",
    "The PCA can be seen as an autoecoder. Here we go from 2D to 1D via the transformation $W_1$. $W_1$ is obtained from the full transformation matrix by keeping the first column corresponding to the largest eigenvector.    \n",
    "\n",
    "$X \\overbrace{\\longrightarrow}^{W_1} X_{red} \\overbrace{\\longrightarrow}^{W_1'}  X_{rec}$"
   ]
  },
  {
   "cell_type": "markdown",
   "metadata": {
    "deletable": true,
    "editable": true
   },
   "source": [
    "##### Approximate Reconstruction\n",
    "The following numpy code calculates the reconstruction error."
   ]
  },
  {
   "cell_type": "code",
   "execution_count": 3,
   "metadata": {
    "collapsed": false,
    "deletable": true,
    "editable": true
   },
   "outputs": [
    {
     "data": {
      "text/plain": [
       "0.69323827583453701"
      ]
     },
     "execution_count": 3,
     "metadata": {},
     "output_type": "execute_result"
    }
   ],
   "source": [
    "W1 = np.reshape(W[:,0],(2,1))\n",
    "#np.matmul(np.matmul(X, W1),np.transpose(W1))\n",
    "X_rec = np.matmul(np.matmul(X, W1), np.transpose(W1))\n",
    "np.sum((X - X_rec)**2)"
   ]
  },
  {
   "cell_type": "markdown",
   "metadata": {
    "deletable": true,
    "editable": true
   },
   "source": [
    "### Implement a PCA using TensorFlow\n",
    "\n",
    "Calculate the PCA in tensorflow, by reducing the reconstruction error as shown above using TensorFlow."
   ]
  },
  {
   "cell_type": "code",
   "execution_count": 4,
   "metadata": {
    "collapsed": false,
    "deletable": true,
    "editable": true
   },
   "outputs": [],
   "source": [
    "tf.reset_default_graph()\n",
    "... Your code here"
   ]
  },
  {
   "cell_type": "code",
   "execution_count": 5,
   "metadata": {
    "collapsed": false,
    "deletable": true,
    "editable": true
   },
   "outputs": [
    {
     "name": "stdout",
     "output_type": "stream",
     "text": [
      "1.87751\n",
      "0.999302\n",
      "0.838487\n",
      "0.766169\n",
      "0.729943\n",
      "0.711694\n",
      "0.702512\n",
      "0.697897\n",
      "0.695578\n",
      "0.694414\n",
      "0.693829\n",
      "0.693535\n",
      "0.693387\n",
      "0.693313\n",
      "0.693276\n",
      "0.693257\n",
      "0.693248\n",
      "0.693243\n",
      "0.693241\n",
      "0.693239\n",
      "The transformation is [[ 0.95439482]\n",
      " [ 0.29854736]]\n"
     ]
    }
   ],
   "source": []
  }
 ],
 "metadata": {
  "kernelspec": {
   "display_name": "Python 3",
   "language": "python",
   "name": "python3"
  },
  "language_info": {
   "codemirror_mode": {
    "name": "ipython",
    "version": 3
   },
   "file_extension": ".py",
   "mimetype": "text/x-python",
   "name": "python",
   "nbconvert_exporter": "python",
   "pygments_lexer": "ipython3",
   "version": "3.4.3"
  }
 },
 "nbformat": 4,
 "nbformat_minor": 2
}
