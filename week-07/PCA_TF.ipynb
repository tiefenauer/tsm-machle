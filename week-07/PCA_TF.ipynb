{
 "cells": [
  {
   "cell_type": "markdown",
   "metadata": {},
   "source": [
    "### PCA with Tensorflow\n",
    "\n",
    "In this notebook, we calculate a simple PCA from 2d $\\rightarrow$ 1d by minimizing the reconstruction error."
   ]
  },
  {
   "cell_type": "code",
   "execution_count": 1,
   "metadata": {},
   "outputs": [],
   "source": [
    "import tensorflow as tf\n",
    "import numpy as np\n",
    "import matplotlib.pyplot as plt\n",
    "%matplotlib inline"
   ]
  },
  {
   "cell_type": "code",
   "execution_count": 2,
   "metadata": {},
   "outputs": [
    {
     "data": {
      "text/plain": [
       "array([[ 0.95445112,  0.29836731],\n",
       "       [ 0.29836731, -0.95445112]])"
      ]
     },
     "execution_count": 2,
     "metadata": {},
     "output_type": "execute_result"
    }
   ],
   "source": [
    "X = np.reshape(np.asarray((-1.64,-0.4,-1.84,-0.9,-0.84,0.1,2.16,0.1,2.16,1.1)),(5,2))\n",
    "from sklearn.decomposition import PCA\n",
    "pca = PCA(n_components=2)\n",
    "res = pca.fit_transform(X)\n",
    "W = pca.transform(np.identity(2))\n",
    "W #The transformation"
   ]
  },
  {
   "cell_type": "markdown",
   "metadata": {},
   "source": [
    "### PCA via reconstruction error\n",
    "\n",
    "The PCA can be seen as an autoecoder. Here we go from 2D to 1D via the transformation $W_1$. $W_1$ is obtained from the full transformation matrix by keeping the first column corresponding to the largest eigenvector.    \n",
    "\n",
    "$X \\overbrace{\\longrightarrow}^{W_1} X_{red} \\overbrace{\\longrightarrow}^{W_1'}  X_{rec}$"
   ]
  },
  {
   "cell_type": "markdown",
   "metadata": {},
   "source": [
    "##### Approximate Reconstruction\n",
    "The following numpy code calculates the reconstruction error."
   ]
  },
  {
   "cell_type": "code",
   "execution_count": 3,
   "metadata": {},
   "outputs": [
    {
     "data": {
      "text/plain": [
       "0.693238275834537"
      ]
     },
     "execution_count": 3,
     "metadata": {},
     "output_type": "execute_result"
    }
   ],
   "source": [
    "W1 = np.reshape(W[:,0],(2,1))\n",
    "#np.matmul(np.matmul(X, W1),np.transpose(W1))\n",
    "X_rec = np.matmul(np.matmul(X, W1), np.transpose(W1))\n",
    "np.sum((X - X_rec)**2)"
   ]
  },
  {
   "cell_type": "markdown",
   "metadata": {},
   "source": [
    "### Implement a PCA using TensorFlow\n",
    "\n",
    "Calculate the PCA in tensorflow, by reducing the reconstruction error as shown above using TensorFlow."
   ]
  },
  {
   "cell_type": "code",
   "execution_count": 6,
   "metadata": {},
   "outputs": [],
   "source": [
    "tf.reset_default_graph()\n",
    "X_ = tf.placeholder(name='X', shape=(None, 2), dtype='float32')\n",
    "W = tf.get_variable('W', shape=(2,1))\n",
    "X_rec_ = tf.matmul(tf.matmul(X_, W), tf.transpose(W))\n",
    "loss_ = tf.reduce_sum((X_rec_ - X_)**2)"
   ]
  },
  {
   "cell_type": "code",
   "execution_count": 8,
   "metadata": {},
   "outputs": [
    {
     "name": "stdout",
     "output_type": "stream",
     "text": [
      "12.40214\n",
      "5.871645\n",
      "3.7112417\n",
      "2.3719084\n",
      "1.5846151\n",
      "1.1539247\n",
      "0.9279841\n",
      "0.8119956\n",
      "0.75309914\n",
      "0.72335654\n",
      "0.7083779\n",
      "0.700845\n",
      "0.6970592\n",
      "0.6951574\n",
      "0.69420207\n",
      "0.6937223\n",
      "0.6934813\n",
      "0.6933603\n",
      "0.69329953\n",
      "0.693269\n",
      "The transformation is [[-0.95416546]\n",
      " [-0.2992795 ]]\n"
     ]
    }
   ],
   "source": [
    "train_op = tf.train.GradientDescentOptimizer(1e-3).minimize(loss_)\n",
    "with tf.Session() as sess:\n",
    "    tf.global_variables_initializer().run()\n",
    "    for i in range(200):\n",
    "        _, d, W_tf = sess.run([train_op, loss_, W], feed_dict={X_: X})\n",
    "        if (i%10 == 0):\n",
    "            print(d)\n",
    "            \n",
    "print(\"The transformation is {}\".format(W_tf))            "
   ]
  },
  {
   "cell_type": "code",
   "execution_count": null,
   "metadata": {},
   "outputs": [],
   "source": []
  }
 ],
 "metadata": {
  "kernelspec": {
   "display_name": "Python 3",
   "language": "python",
   "name": "python3"
  },
  "language_info": {
   "codemirror_mode": {
    "name": "ipython",
    "version": 3
   },
   "file_extension": ".py",
   "mimetype": "text/x-python",
   "name": "python",
   "nbconvert_exporter": "python",
   "pygments_lexer": "ipython3",
   "version": "3.6.4"
  }
 },
 "nbformat": 4,
 "nbformat_minor": 2
}
