{
 "cells": [
  {
   "cell_type": "markdown",
   "metadata": {},
   "source": [
    "# Exercise on Recurrent Neural Network: SOLUTION \n",
    "\n",
    "In this exercise we want to use RNNs for predicting if an ice cream store has ice on stock.\n",
    "We only can use the past weather to make our predictions and hope that the ice stock depends on the weather in the past couple of days. \n",
    "To asses if our RNN model prediction is useful we want to compare the RNN prediction performance to the performance of an easy baseline prediction model. As baseline prediction model we use a random forest.\n",
    "\n",
    " \n",
    "The weather is described by 3 states: 0=sunny, 1=cloudy and 2=rainy. People only buy ice when its sunny and the ice cream \n",
    "stand has an unknow stock of ice and reorders sometimes (unknown policy but we hope it depends on the weather).  \n",
    "Unfortunately, we are quite busy with working so we can  only remember the weather of the last 2 days - for that reason our lookback is only 2 days.\n",
    "\n",
    "\n",
    "a) Go to the beginning of paragraph *Prepare data* and look at the real data generating process which is coded is in cell 2. Have a look at the code and try to understand the process (not necessary to continue).\n",
    "\n",
    "**Solution: At each day with nice weather one ice cream stock is sold. If 3 days ago it was cloudy and we have less than 2 ice cream stocks, we order 1 ice cream stock.**\n",
    "\n",
    "b) Go to the beginning of paragraph *Train and evaluate the baseline Random Forest model*. How large is the accuracy of the random forest model?\n",
    "\n",
    "**Solution: The accuracy of the RF is ~0.64.**\n",
    "\n",
    "c) Go to the beginning of paragraph *Train and evaluate the RNN model* and look RNN model definition. Draw the corresponding computational graph of the unrolled model.\n",
    "\n",
    "**Solution: see the uploaded image of the computational graph**\n",
    "\n",
    "d) Here's is the model summary of the RNN, explain the Param # for the SimpleRNN layer and Dense layer.\n",
    "```\n",
    "_________________________________________________________________\n",
    "Layer (type)                 Output Shape              Param #   \n",
    "=================================================================\n",
    "simple_rnn_1 (SimpleRNN)     (None, 4)                 32        \n",
    "_________________________________________________________________\n",
    "dense_1 (Dense)              (None, 2)                 10        \n",
    "_________________________________________________________________\n",
    "activation_1 (Activation)    (None, 2)                 0         \n",
    "=================================================================\n",
    "Total params: 42\n",
    "Trainable params: 42\n",
    "Non-trainable params: 0\n",
    "_________________________________________________________________\n",
    "```\n",
    "\n",
    "**Solution:**\n",
    "\n",
    "**Simple RNN layer: 7x4+4=32 , since we go from 7 nodes (4 from the hidden state, 3 from the input) to 4 nodes (updated hidden state) and also have 4 bias terms for each of the upper 4 nodes.**\n",
    "\n",
    "**dense: 4x2+2=10 , since we go from 4 nodes (from the hidden state) to 2 nodes (two outcome classes, no-ice or ice) and also have 2 bias terms for each of the upper 2 nodes**\n",
    "\n",
    "d) What is the size of our hidden state in the model and where do we define it?\n",
    "\n",
    "**Solution: \n",
    "the size is 4 (the first parameter of the SimpleRNN keras function). \n",
    "**\n",
    "\n",
    "e) Do you expect that the ice store has ice on stock on day 2 and day 4?\n",
    "Hint: Take the trained model and predict the first two examples of the test set\n",
    "\n",
    "**Solution: \n",
    "From the one-hot-encoding we know that the first outcome corresponds to *ice* and the second outcome to *no-ice*. **\n",
    "\n",
    "\n",
    "**Day 2: prob for outcome 1 is larger than 0.5, meaning we expect to get ice cream. **\n",
    "\n",
    "**Day 4: prob for outcome 1 is larger than 0.5, meaning we expect to get ice cream.**\n",
    "\n",
    "\n",
    "f) To understand what excactly is done by the RNN model, check the prediction \n",
    "by \"hand\"/\"numpy\" with the learned weights from the model.  \n",
    "\n",
    "Hint: use model.get_weights() to get the leraned weights!\n",
    "\n",
    "**Solution: Doing the matrix multiplication, tanh- and softmax transformation with the extracted weight matrix leads to the same result as seen in e): \n",
    "day 2: prob for outcome=1 is larger than 0.5, meaning we expect to get ice cream \n",
    "day 4: prob for outcome=1 is larger than 0.5, meaning we expect to get ice cream \n",
    "**\n",
    "\n",
    "f) Compare the performace of the Random Forrest and the RNN, how good are the models?  \n",
    "What could be the reason for the observed performances?\n",
    "Hint: keep in mind the data generating process\n",
    "\n",
    "**Solution: \n",
    "The accuracy of the RF is ~0.64.\n",
    "The accuracy of the RNN is also ~0.64.\n",
    "This result is not very surprising, since both models use only the weather information of the last 2 days, but the data generating process has a longer time dependency.\n",
    "**\n",
    "\n",
    "f) What do you expect, if you increase the lookback? Play around with this parameter and check if your expectation was right.\n",
    "\n",
    "**Solution: \n",
    "We would expect that with increasing lookback the accuracy gets higher.\n",
    "This is observed if working with a higher lookback (>2). Hint: adapt the lookback in the paragraph *generating the data*.\n",
    "**\n",
    "\n"
   ]
  },
  {
   "cell_type": "markdown",
   "metadata": {},
   "source": [
    "## Load packages"
   ]
  },
  {
   "cell_type": "code",
   "execution_count": 1,
   "metadata": {},
   "outputs": [
    {
     "name": "stderr",
     "output_type": "stream",
     "text": [
      "/usr/local/lib/python3.5/dist-packages/h5py/__init__.py:36: FutureWarning: Conversion of the second argument of issubdtype from `float` to `np.floating` is deprecated. In future, it will be treated as `np.float64 == np.dtype(float).type`.\n",
      "  from ._conv import register_converters as _register_converters\n",
      "Using TensorFlow backend.\n"
     ]
    }
   ],
   "source": [
    "import numpy as np\n",
    "import sys\n",
    "np.random.seed(42)\n",
    "import tensorflow as tf\n",
    "\n",
    "import keras\n",
    "%matplotlib inline\n",
    "import matplotlib.pyplot as plt\n",
    "tf.__version__, sys.version_info\n",
    "import pandas as pd"
   ]
  },
  {
   "cell_type": "markdown",
   "metadata": {},
   "source": [
    "## Prepare data"
   ]
  },
  {
   "cell_type": "code",
   "execution_count": 2,
   "metadata": {},
   "outputs": [],
   "source": [
    "def gen_data(size=1000000):\n",
    "    Xs = np.array(np.random.choice(3, size=(size,))) #Random Weather\n",
    "    Y = []\n",
    "    ice = 2 # stock of icecream at start\n",
    "    for t,x in enumerate(Xs):\n",
    "        # (t-3) >= 0 the first ice cream could be delivered on day 3\n",
    "        # Xs[t - 3] cloudy three days before today => we ordered ice cream\n",
    "        # ice < 2 not full\n",
    "        if (t - 3) >= 0 and Xs[t - 3] == 1 and ice < 2: \n",
    "            ice += 1\n",
    "        if x == 0: # It is sunny we therefore sell ice, if we have\n",
    "            if ice > 0: # We have ice cream\n",
    "                ice -= 1\n",
    "        if ice > 0: #We are not out of stock\n",
    "            Y.append(1)\n",
    "        else:\n",
    "            Y.append(0)\n",
    "    return Xs, np.array(Y)"
   ]
  },
  {
   "cell_type": "markdown",
   "metadata": {},
   "source": [
    "### generating the data and split it to a train valid and test set"
   ]
  },
  {
   "cell_type": "code",
   "execution_count": 3,
   "metadata": {},
   "outputs": [],
   "source": [
    "X, Y = gen_data(40000) \n",
    "\n",
    "lookback=2  # how many days of weather info we use\n",
    "\n",
    "X_tr = X[0:20000]  # number of days with weather in train data\n",
    "Y_tr = Y[0:20000]\n",
    "idx=np.arange(0, len(X_tr),lookback)  \n",
    "X_train=np.zeros((len(idx),lookback))\n",
    "Y_train=np.zeros((len(idx),1))\n",
    "for i in range(0,len(idx)-1):\n",
    "    X_train[i]=X_tr[idx[i]:idx[i+1]]\n",
    "    Y_train[i]=Y_tr[idx[i]+lookback]\n",
    "\n",
    "X_va = X[20000:30000]\n",
    "Y_va = Y[20000:30000]\n",
    "idx=np.arange(0, len(X_va),lookback)\n",
    "X_valid=np.zeros((len(idx),lookback))\n",
    "Y_valid=np.zeros((len(idx),1))\n",
    "for i in range(0,len(idx)-1):\n",
    "    X_valid[i]=X_va[idx[i]:idx[i+1]]\n",
    "    Y_valid[i]=Y_va[idx[i]+lookback]\n",
    "\n",
    "X_te = X[30000:40000]\n",
    "Y_te = Y[30000:40000]\n",
    "idx=np.arange(0, len(X_te),lookback)\n",
    "X_test=np.zeros((len(idx),lookback))\n",
    "Y_test=np.zeros((len(idx),1))\n",
    "for i in range(0,len(idx)-1):\n",
    "    X_test[i]=X_te[idx[i]:idx[i+1]]\n",
    "    Y_test[i]=Y_te[idx[i]+lookback]    "
   ]
  },
  {
   "cell_type": "code",
   "execution_count": 4,
   "metadata": {},
   "outputs": [
    {
     "name": "stdout",
     "output_type": "stream",
     "text": [
      "(10000, 2)\n",
      "(10000, 1)\n",
      "(5000, 2)\n",
      "(5000, 1)\n",
      "(5000, 2)\n",
      "(5000, 1)\n"
     ]
    }
   ],
   "source": [
    "print(X_train.shape)\n",
    "print(Y_train.shape)\n",
    "\n",
    "print(X_valid.shape)\n",
    "print(Y_valid.shape)\n",
    "\n",
    "print(X_test.shape)\n",
    "print(Y_test.shape)\n"
   ]
  },
  {
   "cell_type": "markdown",
   "metadata": {},
   "source": [
    "### prepare the data for the Random Forrest"
   ]
  },
  {
   "cell_type": "code",
   "execution_count": 5,
   "metadata": {},
   "outputs": [],
   "source": [
    "X_train_RF=pd.DataFrame(X_train)\n",
    "for i in range(0,lookback):\n",
    "    X_train_RF[i]=X_train_RF[i].astype('category')\n",
    "#X_train_RF.dtypes\n",
    "\n",
    "Y_train_RF=pd.DataFrame(Y_train)\n",
    "Y_train_RF[0]=Y_train_RF[0].astype('category')\n",
    "#Y_train_RF.dtypes\n",
    "\n",
    "X_test_RF=pd.DataFrame(X_test)\n",
    "for i in range(0,lookback):\n",
    "    X_test_RF[i]=X_test_RF[i].astype('category')\n",
    "#X_train_RF.dtypes\n",
    "\n",
    "Y_test_RF=pd.DataFrame(Y_test)\n",
    "Y_test_RF[0]=Y_test_RF[0].astype('category')\n",
    "#Y_train_RF.dtypes"
   ]
  },
  {
   "cell_type": "markdown",
   "metadata": {},
   "source": [
    "### converting to one hot encoding for keras"
   ]
  },
  {
   "cell_type": "code",
   "execution_count": 6,
   "metadata": {},
   "outputs": [],
   "source": [
    "from keras.utils.np_utils import to_categorical   \n",
    "\n",
    "X_train=to_categorical(X_train,3)\n",
    "Y_train=to_categorical(Y_train,2)\n",
    "\n",
    "X_valid=to_categorical(X_valid,3)\n",
    "Y_valid=to_categorical(Y_valid,2)\n",
    "\n",
    "X_test=to_categorical(X_test,3)\n",
    "Y_test=to_categorical(Y_test,2)\n"
   ]
  },
  {
   "cell_type": "markdown",
   "metadata": {},
   "source": [
    "## Train and evaluate the baseline Random Forest model"
   ]
  },
  {
   "cell_type": "code",
   "execution_count": 7,
   "metadata": {},
   "outputs": [
    {
     "data": {
      "text/plain": [
       "RandomForestClassifier(bootstrap=True, class_weight=None, criterion='gini',\n",
       "            max_depth=None, max_features='auto', max_leaf_nodes=None,\n",
       "            min_impurity_decrease=0.0, min_impurity_split=None,\n",
       "            min_samples_leaf=1, min_samples_split=2,\n",
       "            min_weight_fraction_leaf=0.0, n_estimators=10, n_jobs=1,\n",
       "            oob_score=False, random_state=22, verbose=0, warm_start=False)"
      ]
     },
     "execution_count": 7,
     "metadata": {},
     "output_type": "execute_result"
    }
   ],
   "source": [
    "from sklearn.ensemble import RandomForestClassifier\n",
    "clf = RandomForestClassifier(random_state=22)\n",
    "clf.fit(X_train_RF,np.ravel(Y_train_RF))"
   ]
  },
  {
   "cell_type": "code",
   "execution_count": 8,
   "metadata": {},
   "outputs": [
    {
     "name": "stdout",
     "output_type": "stream",
     "text": [
      "[[ 998 1076]\n",
      " [ 695 2231]]\n"
     ]
    },
    {
     "name": "stderr",
     "output_type": "stream",
     "text": [
      "/usr/local/lib/python3.5/dist-packages/ipykernel_launcher.py:4: DeprecationWarning: elementwise == comparison failed; this will raise an error in the future.\n",
      "  after removing the cwd from sys.path.\n"
     ]
    },
    {
     "data": {
      "text/plain": [
       "0    0.6458\n",
       "dtype: float64"
      ]
     },
     "execution_count": 8,
     "metadata": {},
     "output_type": "execute_result"
    }
   ],
   "source": [
    "from sklearn.metrics import confusion_matrix\n",
    "pred=clf.predict(X_test_RF)\n",
    "print(confusion_matrix(Y_test_RF, pred))\n",
    "np.sum(pred==Y_test_RF)/len(Y_test_RF)\n"
   ]
  },
  {
   "cell_type": "markdown",
   "metadata": {},
   "source": [
    "## Train and evaluate the RNN model"
   ]
  },
  {
   "cell_type": "code",
   "execution_count": 9,
   "metadata": {},
   "outputs": [
    {
     "name": "stdout",
     "output_type": "stream",
     "text": [
      "(10000, 2, 3)\n",
      "(10000, 2)\n",
      "(5000, 2, 3)\n",
      "(5000, 2)\n",
      "(5000, 2, 3)\n",
      "(5000, 2)\n"
     ]
    }
   ],
   "source": [
    "print(X_train.shape)\n",
    "print(Y_train.shape)\n",
    "\n",
    "print(X_valid.shape)\n",
    "print(Y_valid.shape)\n",
    "\n",
    "print(X_test.shape)\n",
    "print(Y_test.shape)\n"
   ]
  },
  {
   "cell_type": "code",
   "execution_count": 10,
   "metadata": {},
   "outputs": [],
   "source": [
    "from keras.layers import Activation, Dense, SimpleRNN, TimeDistributed"
   ]
  },
  {
   "cell_type": "markdown",
   "metadata": {},
   "source": [
    "### define and train RNN model"
   ]
  },
  {
   "cell_type": "code",
   "execution_count": 11,
   "metadata": {},
   "outputs": [],
   "source": [
    "model = keras.models.Sequential()\n",
    "\n",
    "name = 'RNN'\n",
    "\n",
    "model.add(SimpleRNN(4, batch_input_shape=(None,lookback, 3)))\n",
    "model.add(Dense(2))\n",
    "model.add(Activation('softmax'))\n",
    "\n",
    "model.compile(loss='categorical_crossentropy', optimizer='adam', metrics=['accuracy'])"
   ]
  },
  {
   "cell_type": "code",
   "execution_count": 12,
   "metadata": {},
   "outputs": [
    {
     "name": "stdout",
     "output_type": "stream",
     "text": [
      "_________________________________________________________________\n",
      "Layer (type)                 Output Shape              Param #   \n",
      "=================================================================\n",
      "simple_rnn_1 (SimpleRNN)     (None, 4)                 32        \n",
      "_________________________________________________________________\n",
      "dense_1 (Dense)              (None, 2)                 10        \n",
      "_________________________________________________________________\n",
      "activation_1 (Activation)    (None, 2)                 0         \n",
      "=================================================================\n",
      "Total params: 42\n",
      "Trainable params: 42\n",
      "Non-trainable params: 0\n",
      "_________________________________________________________________\n"
     ]
    }
   ],
   "source": [
    "model.summary()"
   ]
  },
  {
   "cell_type": "code",
   "execution_count": 13,
   "metadata": {},
   "outputs": [
    {
     "name": "stdout",
     "output_type": "stream",
     "text": [
      "10000/10000 [==============================] - 1s 78us/step\n"
     ]
    },
    {
     "data": {
      "text/plain": [
       "[0.7736744876861572, 0.4119]"
      ]
     },
     "execution_count": 13,
     "metadata": {},
     "output_type": "execute_result"
    }
   ],
   "source": [
    "model.evaluate(X_train,Y_train)"
   ]
  },
  {
   "cell_type": "code",
   "execution_count": 14,
   "metadata": {},
   "outputs": [
    {
     "name": "stdout",
     "output_type": "stream",
     "text": [
      "[[0.36102727 0.63897276]\n",
      " [0.61788523 0.38211474]\n",
      " [0.34228864 0.6577113 ]\n",
      " [0.4279916  0.57200843]\n",
      " [0.61788523 0.38211477]]\n",
      "[[0. 1.]\n",
      " [1. 0.]\n",
      " [1. 0.]\n",
      " [1. 0.]\n",
      " [0. 1.]]\n"
     ]
    }
   ],
   "source": [
    "print(model.predict(X_train[0:5]))\n",
    "print(Y_train[0:5])"
   ]
  },
  {
   "cell_type": "code",
   "execution_count": 15,
   "metadata": {},
   "outputs": [
    {
     "name": "stdout",
     "output_type": "stream",
     "text": [
      "Train on 10000 samples, validate on 5000 samples\n",
      "Epoch 1/20\n",
      " - 2s - loss: 0.7121 - acc: 0.5264 - val_loss: 0.6817 - val_acc: 0.5980\n",
      "Epoch 2/20\n",
      " - 2s - loss: 0.6797 - acc: 0.5907 - val_loss: 0.6709 - val_acc: 0.5980\n",
      "Epoch 3/20\n",
      " - 1s - loss: 0.6659 - acc: 0.5903 - val_loss: 0.6523 - val_acc: 0.6052\n",
      "Epoch 4/20\n",
      " - 1s - loss: 0.6374 - acc: 0.6467 - val_loss: 0.6263 - val_acc: 0.6470\n",
      "Epoch 5/20\n",
      " - 1s - loss: 0.6258 - acc: 0.6492 - val_loss: 0.6252 - val_acc: 0.6430\n",
      "Epoch 6/20\n",
      " - 1s - loss: 0.6254 - acc: 0.6461 - val_loss: 0.6252 - val_acc: 0.6470\n",
      "Epoch 7/20\n",
      " - 1s - loss: 0.6256 - acc: 0.6497 - val_loss: 0.6249 - val_acc: 0.6470\n",
      "Epoch 8/20\n",
      " - 1s - loss: 0.6253 - acc: 0.6475 - val_loss: 0.6259 - val_acc: 0.6470\n",
      "Epoch 9/20\n",
      " - 1s - loss: 0.6255 - acc: 0.6497 - val_loss: 0.6249 - val_acc: 0.6470\n",
      "Epoch 10/20\n",
      " - 1s - loss: 0.6253 - acc: 0.6497 - val_loss: 0.6251 - val_acc: 0.6470\n",
      "Epoch 11/20\n",
      " - 1s - loss: 0.6255 - acc: 0.6497 - val_loss: 0.6250 - val_acc: 0.6470\n",
      "Epoch 12/20\n",
      " - 1s - loss: 0.6254 - acc: 0.6497 - val_loss: 0.6250 - val_acc: 0.6470\n",
      "Epoch 13/20\n",
      " - 1s - loss: 0.6253 - acc: 0.6497 - val_loss: 0.6249 - val_acc: 0.6470\n",
      "Epoch 14/20\n",
      " - 1s - loss: 0.6252 - acc: 0.6494 - val_loss: 0.6254 - val_acc: 0.6470\n",
      "Epoch 15/20\n",
      " - 1s - loss: 0.6254 - acc: 0.6497 - val_loss: 0.6250 - val_acc: 0.6470\n",
      "Epoch 16/20\n",
      " - 1s - loss: 0.6254 - acc: 0.6497 - val_loss: 0.6251 - val_acc: 0.6470\n",
      "Epoch 17/20\n",
      " - 1s - loss: 0.6254 - acc: 0.6497 - val_loss: 0.6250 - val_acc: 0.6470\n",
      "Epoch 18/20\n",
      " - 1s - loss: 0.6254 - acc: 0.6497 - val_loss: 0.6250 - val_acc: 0.6470\n",
      "Epoch 19/20\n",
      " - 1s - loss: 0.6254 - acc: 0.6497 - val_loss: 0.6249 - val_acc: 0.6470\n",
      "Epoch 20/20\n",
      " - 1s - loss: 0.6252 - acc: 0.6497 - val_loss: 0.6250 - val_acc: 0.6470\n"
     ]
    }
   ],
   "source": [
    "history = model.fit(X_train, Y_train, \n",
    "                    batch_size=32,\n",
    "                    epochs=20, \n",
    "                    verbose=2,\n",
    "                    validation_data=(X_valid,Y_valid))"
   ]
  },
  {
   "cell_type": "code",
   "execution_count": 16,
   "metadata": {},
   "outputs": [
    {
     "data": {
      "image/png": "[encoded data removed]",
      "text/plain": [
       "<matplotlib.figure.Figure at 0x7f0b80e306d8>"
      ]
     },
     "metadata": {},
     "output_type": "display_data"
    },
    {
     "data": {
      "image/png": "[encoded data removed]",
      "text/plain": [
       "<matplotlib.figure.Figure at 0x7f0b80de9710>"
      ]
     },
     "metadata": {},
     "output_type": "display_data"
    }
   ],
   "source": [
    "# summarize history\n",
    "plt.plot(history.history['acc'])\n",
    "plt.plot(history.history['val_acc'])\n",
    "plt.title('model accuracy')\n",
    "plt.ylabel('accuracy')\n",
    "plt.xlabel('epoch')\n",
    "plt.legend(['train', 'valid'], loc='lower right')\n",
    "plt.show()\n",
    "plt.plot(history.history['loss'])\n",
    "plt.plot(history.history['val_loss'])\n",
    "plt.title('model loss')\n",
    "plt.ylabel('loss')\n",
    "plt.xlabel('epoch')\n",
    "plt.legend(['train', 'valid'], loc='upper right')\n",
    "plt.show()"
   ]
  },
  {
   "cell_type": "code",
   "execution_count": 17,
   "metadata": {},
   "outputs": [
    {
     "data": {
      "text/plain": [
       "[array([[ 0.13438533, -0.21414493,  0.7543685 , -0.94684714],\n",
       "        [ 0.42468476, -0.833921  , -0.20430444,  0.1835411 ],\n",
       "        [-0.10851719, -0.8675615 , -0.6149945 , -0.1564514 ]],\n",
       "       dtype=float32),\n",
       " array([[-0.9859326 , -0.06396572,  0.12960972,  0.28472662],\n",
       "        [ 0.23855513, -0.5735706 ,  0.5790275 , -0.5867164 ],\n",
       "        [ 0.55517644,  0.6143694 ,  0.476472  , -0.18081167],\n",
       "        [-0.0607311 ,  0.12541582,  0.35965323,  0.5499555 ]],\n",
       "       dtype=float32),\n",
       " array([ 0.13443226, -0.11679035,  0.13469532, -0.00901049], dtype=float32),\n",
       " array([[-0.13889404, -0.4586342 ],\n",
       "        [ 0.7196145 ,  0.15101716],\n",
       "        [-0.05102399, -0.4032456 ],\n",
       "        [-0.78012294, -0.1269002 ]], dtype=float32),\n",
       " array([-0.07231462,  0.07231498], dtype=float32)]"
      ]
     },
     "execution_count": 17,
     "metadata": {},
     "output_type": "execute_result"
    }
   ],
   "source": [
    "model.get_weights()"
   ]
  },
  {
   "cell_type": "code",
   "execution_count": 18,
   "metadata": {},
   "outputs": [],
   "source": [
    "W1=np.row_stack(model.get_weights()[0:2])\n",
    "b1=model.get_weights()[2]\n",
    "W2=model.get_weights()[3]\n",
    "b2=model.get_weights()[4]"
   ]
  },
  {
   "cell_type": "markdown",
   "metadata": {},
   "source": [
    "## Use the trained model for prediction"
   ]
  },
  {
   "cell_type": "code",
   "execution_count": 19,
   "metadata": {},
   "outputs": [
    {
     "data": {
      "text/plain": [
       "array([0.24401577, 0.7559842 ], dtype=float32)"
      ]
     },
     "execution_count": 19,
     "metadata": {},
     "output_type": "execute_result"
    }
   ],
   "source": [
    "y_pred1=model.predict(X_test[0:1])[0]\n",
    "y_pred1"
   ]
  },
  {
   "cell_type": "markdown",
   "metadata": {},
   "source": [
    "### forwardpass in numpy by \"hand\""
   ]
  },
  {
   "cell_type": "code",
   "execution_count": 20,
   "metadata": {},
   "outputs": [],
   "source": [
    "h0=np.array((0,0,0,0),dtype=\"float32\")\n",
    "#first hidden statee = all zeros"
   ]
  },
  {
   "cell_type": "code",
   "execution_count": 21,
   "metadata": {},
   "outputs": [],
   "source": [
    "h1=np.tanh(np.matmul(np.concatenate((X_test[0][0],h0)),W1)+b1)"
   ]
  },
  {
   "cell_type": "code",
   "execution_count": 22,
   "metadata": {},
   "outputs": [],
   "source": [
    "h2=np.tanh(np.matmul(np.concatenate((X_test[0][1],h1)),W1)+b1)"
   ]
  },
  {
   "cell_type": "code",
   "execution_count": 23,
   "metadata": {},
   "outputs": [
    {
     "data": {
      "text/plain": [
       "array([0.2440158, 0.7559842])"
      ]
     },
     "execution_count": 23,
     "metadata": {},
     "output_type": "execute_result"
    }
   ],
   "source": [
    "Z=np.matmul(h2,W2)+b2\n",
    "np.exp(Z)/np.sum(np.exp(Z))"
   ]
  },
  {
   "cell_type": "code",
   "execution_count": 24,
   "metadata": {},
   "outputs": [
    {
     "data": {
      "text/plain": [
       "array([0.2440158, 0.7559842])"
      ]
     },
     "execution_count": 24,
     "metadata": {},
     "output_type": "execute_result"
    }
   ],
   "source": [
    "#in a loop:\n",
    "ht=np.array((0,0,0,0),dtype=\"float32\")#first hidden stare = all zeros\n",
    "for i in range(0,lookback):\n",
    "    ht=np.tanh(np.matmul(np.concatenate((X_test[0][i],ht)),W1)+b1)\n",
    "Z=np.matmul(ht,W2)+b2\n",
    "np.exp(Z)/np.sum(np.exp(Z))"
   ]
  },
  {
   "cell_type": "code",
   "execution_count": 25,
   "metadata": {},
   "outputs": [
    {
     "name": "stdout",
     "output_type": "stream",
     "text": [
      "[[ 998 1076]\n",
      " [ 695 2231]]\n"
     ]
    },
    {
     "data": {
      "text/plain": [
       "0.6458"
      ]
     },
     "execution_count": 25,
     "metadata": {},
     "output_type": "execute_result"
    }
   ],
   "source": [
    "pred=model.predict(X_test)\n",
    "print(confusion_matrix(np.argmax(Y_test,axis=1), np.argmax(pred,axis=1)))\n",
    "np.sum(np.argmax(pred,axis=1)==np.argmax(Y_test,axis=1))/len(Y_test)"
   ]
  },
  {
   "cell_type": "code",
   "execution_count": null,
   "metadata": {},
   "outputs": [],
   "source": []
  }
 ],
 "metadata": {
  "kernelspec": {
   "display_name": "Python 3",
   "language": "python",
   "name": "python3"
  },
  "language_info": {
   "codemirror_mode": {
    "name": "ipython",
    "version": 3
   },
   "file_extension": ".py",
   "mimetype": "text/x-python",
   "name": "python",
   "nbconvert_exporter": "python",
   "pygments_lexer": "ipython3",
   "version": "3.5.2"
  }
 },
 "nbformat": 4,
 "nbformat_minor": 2
}
