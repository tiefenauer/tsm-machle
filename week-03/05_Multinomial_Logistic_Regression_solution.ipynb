{
 "cells": [
  {
   "cell_type": "markdown",
   "metadata": {
    "deletable": true,
    "editable": true
   },
   "source": [
    "# Multinomial Logistic Regression\n",
    "\n",
    "In this script we use multinomial logistic regression to predict the handwritten digits of the MNIST dataset."
   ]
  },
  {
   "cell_type": "code",
   "execution_count": 1,
   "metadata": {
    "collapsed": false,
    "deletable": true,
    "editable": true
   },
   "outputs": [
    {
     "name": "stdout",
     "output_type": "stream",
     "text": [
      "sys.version_info(major=3, minor=4, micro=3, releaselevel='final', serial=0)\n",
      "1.0.0\n",
      "(4000, 1, 28, 28) (4000,) 28\n"
     ]
    },
    {
     "data": {
      "image/png": "[encoded data removed]",
      "text/plain": [
       "<matplotlib.figure.Figure at 0x7fcc8eff64e0>"
      ]
     },
     "metadata": {},
     "output_type": "display_data"
    }
   ],
   "source": [
    "%matplotlib inline\n",
    "import numpy as np\n",
    "import matplotlib.pyplot as plt\n",
    "import matplotlib.image as imgplot\n",
    "import numpy as np\n",
    "\n",
    "# To be compatible with python3\n",
    "try:\n",
    "    import cPickle as pickle\n",
    "except ImportError:\n",
    "    import pickle\n",
    "\n",
    "import gzip\n",
    "import time\n",
    "import tensorflow as tf\n",
    "import sys\n",
    "\n",
    "print(sys.version_info)\n",
    "print(tf.__version__)\n",
    "\n",
    "with gzip.open('../data/mnist_4000.pkl.gz', 'rb') as f:\n",
    "    (X,y) = pickle.load(f, encoding='latin1')\n",
    "PIXELS = len(X[0,0,0,:])\n",
    "print(X.shape, y.shape, PIXELS) #As read\n",
    "fig = plt.figure(figsize=(10,30))\n",
    "for i in range(3):\n",
    "    a=fig.add_subplot(1,3,(i+1))\n",
    "    plt.imshow(-X[i,0,:,:], interpolation='none',cmap=plt.get_cmap('gray'))"
   ]
  },
  {
   "cell_type": "code",
   "execution_count": 2,
   "metadata": {
    "collapsed": false,
    "deletable": true,
    "editable": true
   },
   "outputs": [
    {
     "data": {
      "text/plain": [
       "(4000, 784)"
      ]
     },
     "execution_count": 2,
     "metadata": {},
     "output_type": "execute_result"
    }
   ],
   "source": [
    "# We need to reshape for the logistic regression\n",
    "X = X.reshape([4000, 784])\n",
    "np.shape(X)"
   ]
  },
  {
   "cell_type": "code",
   "execution_count": 3,
   "metadata": {
    "collapsed": false,
    "deletable": true,
    "editable": true
   },
   "outputs": [
    {
     "name": "stdout",
     "output_type": "stream",
     "text": [
      "class label\n",
      "[5 0 4 1 9]\n",
      "class label in OneHot encodig\n",
      "[[ 0.  0.  0.  0.  0.  1.  0.  0.  0.  0.]\n",
      " [ 1.  0.  0.  0.  0.  0.  0.  0.  0.  0.]\n",
      " [ 0.  0.  0.  0.  1.  0.  0.  0.  0.  0.]\n",
      " [ 0.  1.  0.  0.  0.  0.  0.  0.  0.  0.]\n",
      " [ 0.  0.  0.  0.  0.  0.  0.  0.  0.  1.]]\n"
     ]
    }
   ],
   "source": [
    "# Taken from http://stackoverflow.com/questions/29831489/numpy-1-hot-array\n",
    "def convertToOneHot(vector, num_classes=None):\n",
    "    result = np.zeros((len(vector), num_classes), dtype='float32')\n",
    "    result[np.arange(len(vector)), vector] = 1\n",
    "    return result\n",
    "print(\"class label\")\n",
    "print(y[0:5])\n",
    "print(\"class label in OneHot encodig\")\n",
    "print(convertToOneHot(y[0:5], 10))"
   ]
  },
  {
   "cell_type": "markdown",
   "metadata": {
    "deletable": true,
    "editable": true
   },
   "source": [
    "### Construction of the graph"
   ]
  },
  {
   "cell_type": "code",
   "execution_count": 4,
   "metadata": {
    "collapsed": false,
    "deletable": true,
    "editable": true
   },
   "outputs": [],
   "source": [
    "tf.reset_default_graph()\n",
    "tf.set_random_seed(1)\n",
    "#Note that we usually do not like to specify the batchsize. Choosing it `None` will leave it open\n",
    "x = tf.placeholder(tf.float32, shape=[None, 784], name='x_data')\n",
    "y_true = tf.placeholder(tf.float32, shape=[None, 10], name='y_data')\n",
    "\n",
    "# We start with random weights a\n",
    "w = tf.Variable(tf.random_normal([784, 10], stddev=0.01))\n",
    "b = tf.Variable(tf.zeros([10]))\n",
    "\n",
    "#<-------------------------- Your code here ---------------\n",
    "# Your code here, do a matrix multiplication between x,w and an addtion of b\n",
    "z = tf.matmul(x,w)+b\n",
    "# End of your code\n",
    "\n",
    "prob = tf.nn.softmax(z)\n",
    "init_op = tf.global_variables_initializer() "
   ]
  },
  {
   "cell_type": "markdown",
   "metadata": {
    "deletable": true,
    "editable": true
   },
   "source": [
    "### Store the graph and visualize it in tensorboard"
   ]
  },
  {
   "cell_type": "code",
   "execution_count": 5,
   "metadata": {
    "collapsed": false,
    "deletable": true,
    "editable": true
   },
   "outputs": [],
   "source": [
    "tf.summary.FileWriter(\"/tmp/dumm/mlp_tensorflow_solution/\", tf.get_default_graph()).close() #<--- Where to store"
   ]
  },
  {
   "cell_type": "markdown",
   "metadata": {
    "deletable": true,
    "editable": true
   },
   "source": [
    "### Doing a forward pass of the untrained network"
   ]
  },
  {
   "cell_type": "code",
   "execution_count": 6,
   "metadata": {
    "collapsed": false,
    "deletable": true,
    "editable": true
   },
   "outputs": [
    {
     "name": "stdout",
     "output_type": "stream",
     "text": [
      "true label =  5\n",
      "\n",
      "probability for each class =  [ 0.11525527  0.13671383  0.08958026  0.07389171  0.11342651  0.10523579\n",
      "  0.10331966  0.07971238  0.07903791  0.10382659]\n",
      "\n",
      "pred label =  1\n"
     ]
    }
   ],
   "source": [
    "with tf.Session() as sess:\n",
    "    sess.run(init_op)\n",
    "    res_val = sess.run(prob, feed_dict={x:X[0:10]})\n",
    "print(\"true label = \",y[0])\n",
    "print()\n",
    "print(\"probability for each class = \",res_val[0])\n",
    "print()\n",
    "print(\"pred label = \",np.argmax(res_val[0]))"
   ]
  },
  {
   "cell_type": "markdown",
   "metadata": {
    "deletable": true,
    "editable": true
   },
   "source": [
    "### Train the model"
   ]
  },
  {
   "cell_type": "code",
   "execution_count": 7,
   "metadata": {
    "collapsed": false,
    "deletable": true,
    "editable": true
   },
   "outputs": [
    {
     "name": "stdout",
     "output_type": "stream",
     "text": [
      "2.35709\n",
      "0.155617\n",
      "0.113953\n",
      "0.0622534\n",
      "0.0440066\n",
      "0.0580946\n",
      "0.0567289\n",
      "0.0271106\n",
      "0.0419163\n",
      "0.020037\n",
      "Loss for the validation set\n",
      "0.527672\n"
     ]
    }
   ],
   "source": [
    "loss = tf.reduce_mean(-tf.reduce_sum(y_true * tf.log(prob), reduction_indices=[1]))\n",
    "\n",
    "#train_op = tf.train.GradientDescentOptimizer(0.01).minimize(loss)\n",
    "train_op = tf.train.AdagradOptimizer(0.1).minimize(loss)\n",
    "init_op = tf.global_variables_initializer() \n",
    "with tf.Session() as sess:\n",
    "    sess.run(init_op)\n",
    "    for i in range(1000):\n",
    "        idx = np.random.permutation(2400)[0:128] #Easy minibatch of size 128\n",
    "        #res, out_val, _ = sess.run((loss, prob, train_op),feed_dict={x:X[idx], y_true:convertToOneHot(y[idx], 10)})\n",
    "        loss_, out_val, _ = sess.run((loss, prob, train_op),feed_dict={x:X[idx], y_true:convertToOneHot(y[idx], 10)})\n",
    "        if (i % 100 == 0):\n",
    "            print(loss_)\n",
    "    \n",
    "    # Get the loss for the validation results (from 2400:3000)\n",
    "    print('Loss for the validation set')\n",
    "    #<-------------------------- Your code here ---------------\n",
    "    loss_val = sess.run((loss), feed_dict={x:X[2400:3000], y_true:convertToOneHot(y[2400:3000], 10)})\n",
    "    print(loss_val)\n",
    "    # Get the results for the validation set\n",
    "    res_val = sess.run((prob), feed_dict={x:X[2400:3000]})\n",
    "    #<-------------------------  End of your code here --------"
   ]
  },
  {
   "cell_type": "code",
   "execution_count": 8,
   "metadata": {
    "collapsed": false,
    "deletable": true,
    "editable": true
   },
   "outputs": [
    {
     "name": "stdout",
     "output_type": "stream",
     "text": [
      "Accuracy = 0.891666666667\n",
      "probs = [ 0.  0.  0.  0.  0.  0.  1.  0.  0.  0.]\n",
      "predicted label = 6\n",
      "true label = 6\n"
     ]
    }
   ],
   "source": [
    "# and estimate the preformance on the validation set\n",
    "# Your code here\n",
    "print(\"Accuracy =\",np.mean(np.argmax(res_val, axis = 1) == y[2400:3000]))\n",
    "import random \n",
    "rmd=random.randint(2400,3000)\n",
    "print(\"probs =\",np.round(res_val[rmd-2400],2))\n",
    "print(\"predicted label =\",np.argmax(res_val[rmd-2400]))\n",
    "print(\"true label =\",np.round(y[rmd],2))"
   ]
  }
 ],
 "metadata": {
  "kernelspec": {
   "display_name": "Python 3",
   "language": "python",
   "name": "python3"
  },
  "language_info": {
   "codemirror_mode": {
    "name": "ipython",
    "version": 3
   },
   "file_extension": ".py",
   "mimetype": "text/x-python",
   "name": "python",
   "nbconvert_exporter": "python",
   "pygments_lexer": "ipython3",
   "version": "3.4.3"
  }
 },
 "nbformat": 4,
 "nbformat_minor": 0
}
