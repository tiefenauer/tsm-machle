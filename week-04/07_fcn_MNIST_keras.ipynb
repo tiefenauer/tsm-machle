{
 "cells": [
  {
   "cell_type": "markdown",
   "metadata": {},
   "source": [
    "# Tricks of the trade TF/Keras [small dataset]\n",
    "\n",
    "In this script we build a small multilayer perceptron with two hidden layers having 500 and 50 neurons each for classifying the MNIST database of handwritten digits using Keras. It uses a small data set so that it can be trained on the CPU.\n",
    "\n",
    "Below are several experiments."
   ]
  },
  {
   "cell_type": "code",
   "execution_count": 1,
   "metadata": {
    "scrolled": true
   },
   "outputs": [
    {
     "name": "stderr",
     "output_type": "stream",
     "text": [
      "C:\\Users\\Daniel\\Anaconda3\\lib\\site-packages\\h5py\\__init__.py:36: FutureWarning: Conversion of the second argument of issubdtype from `float` to `np.floating` is deprecated. In future, it will be treated as `np.float64 == np.dtype(float).type`.\n",
      "  from ._conv import register_converters as _register_converters\n",
      "Using TensorFlow backend.\n"
     ]
    },
    {
     "name": "stdout",
     "output_type": "stream",
     "text": [
      "Keras 2.1.5 TF 1.2.1 Python sys.version_info(major=3, minor=6, micro=4, releaselevel='final', serial=0)\n",
      "(4000, 1, 28, 28) (4000,) 28\n"
     ]
    }
   ],
   "source": [
    "%matplotlib inline\n",
    "import numpy as np\n",
    "import matplotlib.pyplot as plt\n",
    "import matplotlib.image as imgplot\n",
    "import numpy as np\n",
    "\n",
    "import time\n",
    "import tensorflow as tf\n",
    "tf.set_random_seed(1)\n",
    "\n",
    "from keras.models import Sequential\n",
    "from keras.layers import Dense, Activation, Dropout, BatchNormalization\n",
    "import keras\n",
    "import sys\n",
    "print (\"Keras {} TF {} Python {}\".format(keras.__version__, tf.__version__, sys.version_info))\n",
    "\n",
    "# To be compatible with python3 and python2\n",
    "try:\n",
    "    import cPickle as pickle\n",
    "except ImportError:\n",
    "    import pickle\n",
    "import gzip\n",
    "\n",
    "with gzip.open('../data/mnist_4000.pkl.gz', 'rb') as f:\n",
    "    if sys.version_info.major > 2:\n",
    "        (X,y) = pickle.load(f, encoding='latin1')\n",
    "    else:\n",
    "        (X,y) = pickle.load(f)\n",
    "PIXELS = len(X[0,0,0,:])\n",
    "\n",
    "print(X.shape, y.shape, PIXELS) #As read\n",
    "# We need to reshape for the MLP\n",
    "X = X.reshape([4000, 784])\n",
    "np.shape(X)\n",
    "\n",
    "# Taken from http://stackoverflow.com/questions/29831489/numpy-1-hot-array\n",
    "def convertToOneHot(vector, num_classes=None):\n",
    "    result = np.zeros((len(vector), num_classes), dtype='int32')\n",
    "    result[np.arange(len(vector)), vector] = 1\n",
    "    return result"
   ]
  },
  {
   "cell_type": "markdown",
   "metadata": {},
   "source": [
    "### Suggestions for the experiment\n",
    "\n",
    "Let the experiments run for 100 epochs. You might need to restart the kernel so that namings of the layers are the same\n",
    "\n",
    "* with init zero \n",
    "* with sigmoid activation \n",
    "* with ReLU activation\n",
    "* with dropout (p=0.3)\n",
    "* with batch-normalization and dropout"
   ]
  },
  {
   "cell_type": "code",
   "execution_count": 2,
   "metadata": {},
   "outputs": [
    {
     "name": "stderr",
     "output_type": "stream",
     "text": [
      "C:\\Users\\Daniel\\Anaconda3\\lib\\site-packages\\ipykernel_launcher.py:4: UserWarning: Update your `Dense` call to the Keras 2 API: `Dense(500, batch_input_shape=(None, 784..., kernel_initializer=\"zero\")`\n",
      "  after removing the cwd from sys.path.\n",
      "C:\\Users\\Daniel\\Anaconda3\\lib\\site-packages\\ipykernel_launcher.py:7: UserWarning: Update your `Dense` call to the Keras 2 API: `Dense(50, kernel_initializer=\"zero\")`\n",
      "  import sys\n",
      "C:\\Users\\Daniel\\Anaconda3\\lib\\site-packages\\ipykernel_launcher.py:10: UserWarning: Update your `Dense` call to the Keras 2 API: `Dense(10, activation=\"softmax\", kernel_initializer=\"zero\")`\n",
      "  # Remove the CWD from sys.path while we load stuff.\n"
     ]
    }
   ],
   "source": [
    "### First model with all zeros\n",
    "name = 'sigmoid_init0'\n",
    "model = Sequential()\n",
    "model.add(Dense(500, batch_input_shape=(None, 784), init='zero'))\n",
    "model.add(Activation('sigmoid'))\n",
    "\n",
    "model.add(Dense(50,init='zero'))\n",
    "model.add(Activation('sigmoid'))\n",
    "\n",
    "model.add(Dense(10, activation='softmax',init='zero'))\n",
    "model.compile(loss='categorical_crossentropy',\n",
    "              optimizer='adadelta',\n",
    "              metrics=['accuracy'])"
   ]
  },
  {
   "cell_type": "code",
   "execution_count": null,
   "metadata": {},
   "outputs": [],
   "source": [
    "### Second model with default initialization\n",
    "name = 'sigmoid'\n",
    "model = Sequential()\n",
    "model.add(Dense(500, batch_input_shape=(None, 784)))\n",
    "model.add(Activation('sigmoid'))\n",
    "\n",
    "model.add(Dense(50))\n",
    "model.add(Activation('sigmoid'))\n",
    "\n",
    "model.add(Dense(10, activation='softmax'))\n",
    "model.compile(loss='categorical_crossentropy',\n",
    "              optimizer='adadelta',\n",
    "              metrics=['accuracy'])"
   ]
  },
  {
   "cell_type": "code",
   "execution_count": null,
   "metadata": {},
   "outputs": [],
   "source": [
    "### Third model with relu activation\n",
    "name = 'relu'\n",
    "model = Sequential()\n",
    "model.add(Dense(500, batch_input_shape=(None, 784)))\n",
    "model.add(Activation('relu'))\n",
    "\n",
    "model.add(Dense(50))\n",
    "model.add(Activation('relu'))\n",
    "\n",
    "model.add(Dense(10, activation='softmax'))\n",
    "model.compile(loss='categorical_crossentropy',\n",
    "              optimizer='adadelta',\n",
    "              metrics=['accuracy'])"
   ]
  },
  {
   "cell_type": "code",
   "execution_count": null,
   "metadata": {},
   "outputs": [],
   "source": [
    "### Fourth model with Dropout\n",
    "name = 'dropout'\n",
    "model = Sequential()\n",
    "model.add(Dense(500, batch_input_shape=(None, 784)))\n",
    "model.add(Dropout(0.3))\n",
    "model.add(Activation('relu'))\n",
    "\n",
    "model.add(Dense(50))\n",
    "model.add(Dropout(0.3))\n",
    "model.add(Activation('relu'))\n",
    "\n",
    "model.add(Dense(10, activation='softmax'))\n",
    "model.compile(loss='categorical_crossentropy',\n",
    "              optimizer='adadelta',\n",
    "              metrics=['accuracy'])"
   ]
  },
  {
   "cell_type": "code",
   "execution_count": null,
   "metadata": {},
   "outputs": [],
   "source": [
    "### Fifth model with Batch-Normalization and Dropout\n",
    "name = 'batch_dropout'\n",
    "model = Sequential()\n",
    "model.add(Dense(500, batch_input_shape=(None, 784)))\n",
    "model.add(keras.layers.normalization.BatchNormalization())\n",
    "model.add(Dropout(0.3))\n",
    "model.add(Activation('relu'))\n",
    "\n",
    "model.add(Dense(50))\n",
    "model.add(keras.layers.normalization.BatchNormalization())\n",
    "model.add(Dropout(0.3))\n",
    "model.add(Activation('relu'))\n",
    "\n",
    "model.add(Dense(10, activation='softmax'))\n",
    "model.compile(loss='categorical_crossentropy',\n",
    "              optimizer='adadelta',\n",
    "              metrics=['accuracy'])"
   ]
  },
  {
   "cell_type": "code",
   "execution_count": 3,
   "metadata": {},
   "outputs": [
    {
     "name": "stdout",
     "output_type": "stream",
     "text": [
      "_________________________________________________________________\n",
      "Layer (type)                 Output Shape              Param #   \n",
      "=================================================================\n",
      "dense_1 (Dense)              (None, 500)               392500    \n",
      "_________________________________________________________________\n",
      "activation_1 (Activation)    (None, 500)               0         \n",
      "_________________________________________________________________\n",
      "dense_2 (Dense)              (None, 50)                25050     \n",
      "_________________________________________________________________\n",
      "activation_2 (Activation)    (None, 50)                0         \n",
      "_________________________________________________________________\n",
      "dense_3 (Dense)              (None, 10)                510       \n",
      "=================================================================\n",
      "Total params: 418,060\n",
      "Trainable params: 418,060\n",
      "Non-trainable params: 0\n",
      "_________________________________________________________________\n"
     ]
    }
   ],
   "source": [
    "model.summary()"
   ]
  },
  {
   "cell_type": "markdown",
   "metadata": {},
   "source": [
    "### Untrained model\n"
   ]
  },
  {
   "cell_type": "code",
   "execution_count": 4,
   "metadata": {},
   "outputs": [
    {
     "data": {
      "text/plain": [
       "-2.3025850929940455"
      ]
     },
     "execution_count": 4,
     "metadata": {},
     "output_type": "execute_result"
    }
   ],
   "source": [
    "np.log(0.1)"
   ]
  },
  {
   "cell_type": "code",
   "execution_count": 5,
   "metadata": {},
   "outputs": [
    {
     "name": "stdout",
     "output_type": "stream",
     "text": [
      "2000/2000 [==============================] - 0s 217us/step\n"
     ]
    },
    {
     "data": {
      "text/plain": [
       "[2.302585361480713, 0.0955]"
      ]
     },
     "execution_count": 5,
     "metadata": {},
     "output_type": "execute_result"
    }
   ],
   "source": [
    "model.evaluate(X[0:2000], convertToOneHot(y[0:2000],10))"
   ]
  },
  {
   "cell_type": "code",
   "execution_count": 6,
   "metadata": {},
   "outputs": [
    {
     "data": {
      "text/plain": [
       "array([0, 0, 0, 0, 0, 0, 0, 0, 0, 0], dtype=int64)"
      ]
     },
     "execution_count": 6,
     "metadata": {},
     "output_type": "execute_result"
    }
   ],
   "source": [
    "model.predict_classes(X[0:10])"
   ]
  },
  {
   "cell_type": "code",
   "execution_count": 7,
   "metadata": {},
   "outputs": [],
   "source": [
    "#model.save('/tmp/start.keras')\n",
    "#%ls -hl /tmp/start.keras"
   ]
  },
  {
   "cell_type": "markdown",
   "metadata": {},
   "source": [
    "## Training"
   ]
  },
  {
   "cell_type": "code",
   "execution_count": 8,
   "metadata": {
    "scrolled": true
   },
   "outputs": [
    {
     "name": "stderr",
     "output_type": "stream",
     "text": [
      "C:\\Users\\Daniel\\Anaconda3\\lib\\site-packages\\keras\\models.py:942: UserWarning: The `nb_epoch` argument in `fit` has been renamed `epochs`.\n",
      "  warnings.warn('The `nb_epoch` argument in `fit` '\n"
     ]
    },
    {
     "name": "stdout",
     "output_type": "stream",
     "text": [
      "Train on 2400 samples, validate on 600 samples\n",
      "Epoch 1/100\n",
      " - 0s - loss: 2.3035 - acc: 0.1017 - val_loss: 2.3003 - val_acc: 0.1067\n",
      "Epoch 2/100\n",
      " - 0s - loss: 2.3035 - acc: 0.0992 - val_loss: 2.3001 - val_acc: 0.1233\n",
      "Epoch 3/100\n",
      " - 0s - loss: 2.3024 - acc: 0.1142 - val_loss: 2.3015 - val_acc: 0.1067\n",
      "Epoch 4/100\n",
      " - 0s - loss: 2.3027 - acc: 0.1096 - val_loss: 2.2993 - val_acc: 0.1067\n",
      "Epoch 5/100\n",
      " - 0s - loss: 2.3027 - acc: 0.1142 - val_loss: 2.2997 - val_acc: 0.1067\n",
      "Epoch 6/100\n",
      " - 0s - loss: 2.3019 - acc: 0.1079 - val_loss: 2.2988 - val_acc: 0.1067\n",
      "Epoch 7/100\n",
      " - 0s - loss: 2.3015 - acc: 0.0946 - val_loss: 2.2985 - val_acc: 0.1067\n",
      "Epoch 8/100\n",
      " - 0s - loss: 2.3012 - acc: 0.1125 - val_loss: 2.2995 - val_acc: 0.1067\n",
      "Epoch 9/100\n",
      " - 0s - loss: 2.3011 - acc: 0.1054 - val_loss: 2.2984 - val_acc: 0.1067\n",
      "Epoch 10/100\n",
      " - 0s - loss: 2.3001 - acc: 0.1071 - val_loss: 2.2982 - val_acc: 0.1067\n",
      "Epoch 11/100\n",
      " - 0s - loss: 2.2987 - acc: 0.1092 - val_loss: 2.2967 - val_acc: 0.1233\n",
      "Epoch 12/100\n",
      " - 0s - loss: 2.2972 - acc: 0.1104 - val_loss: 2.2953 - val_acc: 0.1233\n",
      "Epoch 13/100\n",
      " - 0s - loss: 2.2954 - acc: 0.1042 - val_loss: 2.2926 - val_acc: 0.1067\n",
      "Epoch 14/100\n",
      " - 0s - loss: 2.2910 - acc: 0.1092 - val_loss: 2.2881 - val_acc: 0.1067\n",
      "Epoch 15/100\n",
      " - 0s - loss: 2.2845 - acc: 0.1104 - val_loss: 2.2805 - val_acc: 0.1067\n",
      "Epoch 16/100\n",
      " - 0s - loss: 2.2744 - acc: 0.1104 - val_loss: 2.2689 - val_acc: 0.1067\n",
      "Epoch 17/100\n",
      " - 0s - loss: 2.2588 - acc: 0.1104 - val_loss: 2.2512 - val_acc: 0.1067\n",
      "Epoch 18/100\n",
      " - 1s - loss: 2.2362 - acc: 0.1104 - val_loss: 2.2253 - val_acc: 0.1067\n",
      "Epoch 19/100\n",
      " - 0s - loss: 2.2056 - acc: 0.1125 - val_loss: 2.1921 - val_acc: 0.1217\n",
      "Epoch 20/100\n",
      " - 0s - loss: 2.1681 - acc: 0.1412 - val_loss: 2.1535 - val_acc: 0.1583\n",
      "Epoch 21/100\n",
      " - 0s - loss: 2.1269 - acc: 0.1746 - val_loss: 2.1150 - val_acc: 0.1767\n",
      "Epoch 22/100\n",
      " - 0s - loss: 2.0878 - acc: 0.1888 - val_loss: 2.0801 - val_acc: 0.1950\n",
      "Epoch 23/100\n",
      " - 0s - loss: 2.0530 - acc: 0.1983 - val_loss: 2.0499 - val_acc: 0.2017\n",
      "Epoch 24/100\n",
      " - 0s - loss: 2.0235 - acc: 0.2008 - val_loss: 2.0251 - val_acc: 0.2083\n",
      "Epoch 25/100\n",
      " - 0s - loss: 1.9984 - acc: 0.2062 - val_loss: 2.0034 - val_acc: 0.2083\n",
      "Epoch 26/100\n",
      " - 0s - loss: 1.9770 - acc: 0.2096 - val_loss: 1.9855 - val_acc: 0.2133\n",
      "Epoch 27/100\n",
      " - 0s - loss: 1.9587 - acc: 0.2125 - val_loss: 1.9693 - val_acc: 0.2117\n",
      "Epoch 28/100\n",
      " - 0s - loss: 1.9422 - acc: 0.2133 - val_loss: 1.9555 - val_acc: 0.2133\n",
      "Epoch 29/100\n",
      " - 0s - loss: 1.9278 - acc: 0.2183 - val_loss: 1.9429 - val_acc: 0.2167\n",
      "Epoch 30/100\n",
      " - 0s - loss: 1.9146 - acc: 0.2233 - val_loss: 1.9311 - val_acc: 0.2167\n",
      "Epoch 31/100\n",
      " - 0s - loss: 1.9029 - acc: 0.2250 - val_loss: 1.9200 - val_acc: 0.2233\n",
      "Epoch 32/100\n",
      " - 0s - loss: 1.8915 - acc: 0.2292 - val_loss: 1.9102 - val_acc: 0.2250\n",
      "Epoch 33/100\n",
      " - 0s - loss: 1.8812 - acc: 0.2325 - val_loss: 1.9000 - val_acc: 0.2367\n",
      "Epoch 34/100\n",
      " - 0s - loss: 1.8719 - acc: 0.2358 - val_loss: 1.8927 - val_acc: 0.2383\n",
      "Epoch 35/100\n",
      " - 0s - loss: 1.8629 - acc: 0.2367 - val_loss: 1.8846 - val_acc: 0.2400\n",
      "Epoch 36/100\n",
      " - 0s - loss: 1.8548 - acc: 0.2475 - val_loss: 1.8773 - val_acc: 0.2383\n",
      "Epoch 37/100\n",
      " - 0s - loss: 1.8468 - acc: 0.2462 - val_loss: 1.8693 - val_acc: 0.2450\n",
      "Epoch 38/100\n",
      " - 0s - loss: 1.8394 - acc: 0.2450 - val_loss: 1.8630 - val_acc: 0.2467\n",
      "Epoch 39/100\n",
      " - 0s - loss: 1.8322 - acc: 0.2479 - val_loss: 1.8560 - val_acc: 0.2500\n",
      "Epoch 40/100\n",
      " - 0s - loss: 1.8253 - acc: 0.2517 - val_loss: 1.8504 - val_acc: 0.2483\n",
      "Epoch 41/100\n",
      " - 0s - loss: 1.8188 - acc: 0.2525 - val_loss: 1.8449 - val_acc: 0.2500\n",
      "Epoch 42/100\n",
      " - 0s - loss: 1.8125 - acc: 0.2546 - val_loss: 1.8393 - val_acc: 0.2483\n",
      "Epoch 43/100\n",
      " - 0s - loss: 1.8067 - acc: 0.2638 - val_loss: 1.8345 - val_acc: 0.2483\n",
      "Epoch 44/100\n",
      " - 0s - loss: 1.8010 - acc: 0.2617 - val_loss: 1.8298 - val_acc: 0.2533\n",
      "Epoch 45/100\n",
      " - 0s - loss: 1.7954 - acc: 0.2633 - val_loss: 1.8244 - val_acc: 0.2550\n",
      "Epoch 46/100\n",
      " - 0s - loss: 1.7904 - acc: 0.2658 - val_loss: 1.8200 - val_acc: 0.2550\n",
      "Epoch 47/100\n",
      " - 0s - loss: 1.7848 - acc: 0.2675 - val_loss: 1.8149 - val_acc: 0.2633\n",
      "Epoch 48/100\n",
      " - 0s - loss: 1.7800 - acc: 0.2696 - val_loss: 1.8107 - val_acc: 0.2633\n",
      "Epoch 49/100\n",
      " - 0s - loss: 1.7754 - acc: 0.2721 - val_loss: 1.8071 - val_acc: 0.2633\n",
      "Epoch 50/100\n",
      " - 0s - loss: 1.7704 - acc: 0.2779 - val_loss: 1.8029 - val_acc: 0.2717\n",
      "Epoch 51/100\n",
      " - 0s - loss: 1.7659 - acc: 0.2817 - val_loss: 1.7994 - val_acc: 0.2667\n",
      "Epoch 52/100\n",
      " - 0s - loss: 1.7615 - acc: 0.2787 - val_loss: 1.7964 - val_acc: 0.2683\n",
      "Epoch 53/100\n",
      " - 0s - loss: 1.7573 - acc: 0.2867 - val_loss: 1.7936 - val_acc: 0.2733\n",
      "Epoch 54/100\n",
      " - 0s - loss: 1.7530 - acc: 0.2883 - val_loss: 1.7892 - val_acc: 0.2783\n",
      "Epoch 55/100\n",
      " - 0s - loss: 1.7491 - acc: 0.2892 - val_loss: 1.7872 - val_acc: 0.2867\n",
      "Epoch 56/100\n",
      " - 0s - loss: 1.7449 - acc: 0.2962 - val_loss: 1.7817 - val_acc: 0.2850\n",
      "Epoch 57/100\n",
      " - 0s - loss: 1.7412 - acc: 0.2908 - val_loss: 1.7795 - val_acc: 0.2833\n",
      "Epoch 58/100\n",
      " - 0s - loss: 1.7372 - acc: 0.2933 - val_loss: 1.7767 - val_acc: 0.2883\n",
      "Epoch 59/100\n",
      " - 0s - loss: 1.7331 - acc: 0.2971 - val_loss: 1.7729 - val_acc: 0.2933\n",
      "Epoch 60/100\n",
      " - 0s - loss: 1.7297 - acc: 0.3071 - val_loss: 1.7702 - val_acc: 0.2917\n",
      "Epoch 61/100\n",
      " - 1s - loss: 1.7260 - acc: 0.3012 - val_loss: 1.7667 - val_acc: 0.3033\n",
      "Epoch 62/100\n",
      " - 0s - loss: 1.7219 - acc: 0.3104 - val_loss: 1.7629 - val_acc: 0.2983\n",
      "Epoch 63/100\n",
      " - 0s - loss: 1.7180 - acc: 0.3183 - val_loss: 1.7597 - val_acc: 0.3000\n",
      "Epoch 64/100\n",
      " - 0s - loss: 1.7141 - acc: 0.3229 - val_loss: 1.7564 - val_acc: 0.3000\n",
      "Epoch 65/100\n",
      " - 0s - loss: 1.7095 - acc: 0.3242 - val_loss: 1.7513 - val_acc: 0.3183\n",
      "Epoch 66/100\n",
      " - 0s - loss: 1.7042 - acc: 0.3325 - val_loss: 1.7470 - val_acc: 0.3167\n",
      "Epoch 67/100\n",
      " - 0s - loss: 1.6992 - acc: 0.3379 - val_loss: 1.7434 - val_acc: 0.3033\n",
      "Epoch 68/100\n",
      " - 0s - loss: 1.6934 - acc: 0.3442 - val_loss: 1.7365 - val_acc: 0.3267\n",
      "Epoch 69/100\n",
      " - 0s - loss: 1.6871 - acc: 0.3554 - val_loss: 1.7323 - val_acc: 0.3350\n",
      "Epoch 70/100\n",
      " - 0s - loss: 1.6811 - acc: 0.3542 - val_loss: 1.7262 - val_acc: 0.3500\n",
      "Epoch 71/100\n",
      " - 0s - loss: 1.6737 - acc: 0.3725 - val_loss: 1.7192 - val_acc: 0.3367\n",
      "Epoch 72/100\n",
      " - 0s - loss: 1.6679 - acc: 0.3683 - val_loss: 1.7134 - val_acc: 0.3400\n",
      "Epoch 73/100\n",
      " - 0s - loss: 1.6606 - acc: 0.3737 - val_loss: 1.7078 - val_acc: 0.3433\n",
      "Epoch 74/100\n",
      " - 0s - loss: 1.6539 - acc: 0.3729 - val_loss: 1.7017 - val_acc: 0.3517\n",
      "Epoch 75/100\n",
      " - 0s - loss: 1.6466 - acc: 0.3788 - val_loss: 1.6967 - val_acc: 0.3450\n",
      "Epoch 76/100\n",
      " - 0s - loss: 1.6401 - acc: 0.3763 - val_loss: 1.6913 - val_acc: 0.3533\n",
      "Epoch 77/100\n",
      " - 0s - loss: 1.6339 - acc: 0.3804 - val_loss: 1.6873 - val_acc: 0.3433\n",
      "Epoch 78/100\n",
      " - 0s - loss: 1.6277 - acc: 0.3904 - val_loss: 1.6814 - val_acc: 0.3633\n",
      "Epoch 79/100\n",
      " - 0s - loss: 1.6218 - acc: 0.3833 - val_loss: 1.6769 - val_acc: 0.3600\n",
      "Epoch 80/100\n",
      " - 0s - loss: 1.6155 - acc: 0.3804 - val_loss: 1.6731 - val_acc: 0.3517\n",
      "Epoch 81/100\n",
      " - 0s - loss: 1.6098 - acc: 0.3875 - val_loss: 1.6687 - val_acc: 0.3583\n",
      "Epoch 82/100\n",
      " - 1s - loss: 1.6045 - acc: 0.3879 - val_loss: 1.6649 - val_acc: 0.3650\n",
      "Epoch 83/100\n",
      " - 0s - loss: 1.5984 - acc: 0.3858 - val_loss: 1.6622 - val_acc: 0.3517\n",
      "Epoch 84/100\n",
      " - 1s - loss: 1.5940 - acc: 0.3925 - val_loss: 1.6554 - val_acc: 0.3650\n",
      "Epoch 85/100\n",
      " - 0s - loss: 1.5882 - acc: 0.3987 - val_loss: 1.6527 - val_acc: 0.3683\n",
      "Epoch 86/100\n",
      " - 0s - loss: 1.5831 - acc: 0.3925 - val_loss: 1.6515 - val_acc: 0.3667\n",
      "Epoch 87/100\n",
      " - 1s - loss: 1.5787 - acc: 0.3846 - val_loss: 1.6473 - val_acc: 0.3633\n",
      "Epoch 88/100\n",
      " - 0s - loss: 1.5734 - acc: 0.3925 - val_loss: 1.6426 - val_acc: 0.3667\n",
      "Epoch 89/100\n",
      " - 0s - loss: 1.5698 - acc: 0.4042 - val_loss: 1.6413 - val_acc: 0.3583\n",
      "Epoch 90/100\n",
      " - 0s - loss: 1.5648 - acc: 0.4025 - val_loss: 1.6375 - val_acc: 0.3667\n",
      "Epoch 91/100\n",
      " - 0s - loss: 1.5600 - acc: 0.4017 - val_loss: 1.6367 - val_acc: 0.3617\n",
      "Epoch 92/100\n",
      " - 0s - loss: 1.5565 - acc: 0.4050 - val_loss: 1.6342 - val_acc: 0.3583\n",
      "Epoch 93/100\n",
      " - 0s - loss: 1.5521 - acc: 0.4100 - val_loss: 1.6298 - val_acc: 0.3650\n",
      "Epoch 94/100\n",
      " - 0s - loss: 1.5477 - acc: 0.4112 - val_loss: 1.6261 - val_acc: 0.3700\n",
      "Epoch 95/100\n",
      " - 0s - loss: 1.5434 - acc: 0.4058 - val_loss: 1.6220 - val_acc: 0.3800\n",
      "Epoch 96/100\n",
      " - 0s - loss: 1.5380 - acc: 0.4150 - val_loss: 1.6155 - val_acc: 0.3733\n"
     ]
    },
    {
     "name": "stdout",
     "output_type": "stream",
     "text": [
      "Epoch 97/100\n",
      " - 0s - loss: 1.5299 - acc: 0.4150 - val_loss: 1.6065 - val_acc: 0.3733\n",
      "Epoch 98/100\n",
      " - 0s - loss: 1.5184 - acc: 0.4300 - val_loss: 1.5956 - val_acc: 0.3917\n",
      "Epoch 99/100\n",
      " - 0s - loss: 1.5053 - acc: 0.4179 - val_loss: 1.5791 - val_acc: 0.3800\n",
      "Epoch 100/100\n",
      " - 1s - loss: 1.4897 - acc: 0.4275 - val_loss: 1.5634 - val_acc: 0.3867\n"
     ]
    }
   ],
   "source": [
    "tensorboard = keras.callbacks.TensorBoard(\n",
    "    log_dir='tensorboard/mnist_small/' + name + '/', \n",
    "    write_graph=True,\n",
    "    histogram_freq=1\n",
    ")\n",
    "\n",
    "history = model.fit(X[0:2400], \n",
    "              convertToOneHot(y[0:2400],10), \n",
    "              nb_epoch=100, \n",
    "              batch_size=128, \n",
    "              callbacks=[tensorboard],\n",
    "              validation_data=[X[2400:3000], convertToOneHot(y[2400:3000],10)], verbose=2)\n",
    "\n",
    "\n",
    "# Attention, if you run this in a docker container, setting verbose=1 sometimes kills the whole container \n",
    "# ERRO[0695] error getting events from daemon: EOF\n",
    "\n",
    "# Sometimes also the TensorBoard callback kills the container"
   ]
  },
  {
   "cell_type": "code",
   "execution_count": 9,
   "metadata": {},
   "outputs": [
    {
     "data": {
      "image/png": "[encoded data removed]",
      "text/plain": [
       "<matplotlib.figure.Figure at 0x22a3fad1080>"
      ]
     },
     "metadata": {},
     "output_type": "display_data"
    }
   ],
   "source": [
    "plt.plot(history.history['acc'])\n",
    "plt.plot(history.history['val_acc'])\n",
    "plt.title('model accuracy')\n",
    "plt.ylabel('accuracy')\n",
    "plt.xlabel('epoch')\n",
    "plt.legend(['train acc', 'test acc'], loc='lower right')\n",
    "plt.show() \n"
   ]
  },
  {
   "cell_type": "code",
   "execution_count": 10,
   "metadata": {},
   "outputs": [
    {
     "data": {
      "image/png": "[encoded data removed]",
      "text/plain": [
       "<matplotlib.figure.Figure at 0x22a43748080>"
      ]
     },
     "metadata": {},
     "output_type": "display_data"
    }
   ],
   "source": [
    "plt.plot(history.history['loss'])\n",
    "plt.plot(history.history['val_loss'])\n",
    "plt.title('model loss')\n",
    "plt.ylabel('loss')\n",
    "plt.xlabel('epoch')\n",
    "plt.legend(['train loss', 'test loss'], loc='upper right')\n",
    "plt.show()"
   ]
  },
  {
   "cell_type": "code",
   "execution_count": null,
   "metadata": {},
   "outputs": [],
   "source": [
    "!tensorboard --logdir=tensorboard/mnist_small/"
   ]
  },
  {
   "cell_type": "code",
   "execution_count": null,
   "metadata": {},
   "outputs": [],
   "source": []
  }
 ],
 "metadata": {
  "kernelspec": {
   "display_name": "Python 3",
   "language": "python",
   "name": "python3"
  },
  "language_info": {
   "codemirror_mode": {
    "name": "ipython",
    "version": 3
   },
   "file_extension": ".py",
   "mimetype": "text/x-python",
   "name": "python",
   "nbconvert_exporter": "python",
   "pygments_lexer": "ipython3",
   "version": "3.6.4"
  }
 },
 "nbformat": 4,
 "nbformat_minor": 1
}
