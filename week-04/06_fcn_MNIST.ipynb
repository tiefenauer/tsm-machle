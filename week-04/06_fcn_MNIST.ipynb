{
 "cells": [
  {
   "cell_type": "markdown",
   "metadata": {},
   "source": [
    "# Multilayer perceptron in TensorFlow (plain vanilla)\n",
    "\n",
    "In this script we build a small multilayer perceptron with two hidden layers having 500 and 50 neurons each for classifying the MNIST database of handwritten digits."
   ]
  },
  {
   "cell_type": "code",
   "execution_count": 11,
   "metadata": {},
   "outputs": [
    {
     "data": {
      "text/plain": [
       "('1.2.1',\n",
       " sys.version_info(major=3, minor=6, micro=4, releaselevel='final', serial=0))"
      ]
     },
     "execution_count": 11,
     "metadata": {},
     "output_type": "execute_result"
    }
   ],
   "source": [
    "%matplotlib inline\n",
    "import numpy as np\n",
    "import matplotlib.pyplot as plt\n",
    "import matplotlib.image as imgplot\n",
    "import numpy as np\n",
    "import time\n",
    "import tensorflow as tf\n",
    "import pandas as pd\n",
    "tf.set_random_seed(1)\n",
    "np.random.seed(1)\n",
    "import sys\n",
    "tf.__version__, sys.version_info"
   ]
  },
  {
   "cell_type": "code",
   "execution_count": 12,
   "metadata": {},
   "outputs": [
    {
     "name": "stdout",
     "output_type": "stream",
     "text": [
      "(4000, 1, 28, 28) (4000,) 28\n"
     ]
    },
    {
     "data": {
      "text/plain": [
       "(4000, 784)"
      ]
     },
     "execution_count": 12,
     "metadata": {},
     "output_type": "execute_result"
    }
   ],
   "source": [
    "# To be compatible with python3 and python2\n",
    "try:\n",
    "    import cPickle as pickle\n",
    "except ImportError:\n",
    "    import pickle\n",
    "import gzip\n",
    "\n",
    "with gzip.open('../data/mnist_4000.pkl.gz', 'rb') as f:\n",
    "    if sys.version_info.major > 2:\n",
    "        (X,y) = pickle.load(f, encoding='latin1')\n",
    "    else:\n",
    "        (X,y) = pickle.load(f)\n",
    "PIXELS = len(X[0,0,0,:])\n",
    "\n",
    "print(X.shape, y.shape, PIXELS) #As read\n",
    "# We need to reshape for the MLP\n",
    "X = X.reshape([4000, 784])\n",
    "np.shape(X)"
   ]
  },
  {
   "cell_type": "code",
   "execution_count": 13,
   "metadata": {},
   "outputs": [],
   "source": [
    "# Taken from http://stackoverflow.com/questions/29831489/numpy-1-hot-array\n",
    "def convertToOneHot(vector, num_classes=None):\n",
    "    result = np.zeros((len(vector), num_classes), dtype='int32')\n",
    "    result[np.arange(len(vector)), vector] = 1\n",
    "    return result"
   ]
  },
  {
   "cell_type": "markdown",
   "metadata": {},
   "source": [
    "## Building the network\n",
    "Build a network with the following architecture.\n",
    "\n",
    "### Definition of the network (architecture)\n",
    "\n",
    "* An Input Layer with the following 2-dimensions: \n",
    "    * 0: Batch Size yet unkown hence `None`\n",
    "    * 1: 784 = 28*28 pixels\n",
    "* A hidden layer with 500 units\n",
    "* A second hidden layer with 50 units\n",
    "* An output layer with 10 units\n",
    "\n",
    "### Hints\n",
    "* The weights can be specified and intitialized as\n",
    "```{python}\n",
    "    w_1 = tf.Variable(tf.random_normal([784, 500]))\n",
    "```\n",
    "* Use ```tf.nn.sigmoid``` activations for the hidden layer"
   ]
  },
  {
   "cell_type": "code",
   "execution_count": 21,
   "metadata": {},
   "outputs": [],
   "source": [
    "tf.reset_default_graph()\n",
    "tf.set_random_seed(1)\n",
    "x = tf.placeholder(tf.float32, shape=[None, 784], name='x_data')\n",
    "y_true = tf.placeholder(tf.float32, shape=[None, 10], name='y_data')\n",
    "\n",
    "# From Input to first hidden layer\n",
    "w_1 = tf.Variable(tf.random_normal([784, 500], stddev=0.1))\n",
    "b_1 = tf.Variable(tf.random_normal([500]))\n",
    "h_1_in = tf.add(tf.matmul(x, w_1), b_1)\n",
    "h_1_out = tf.nn.relu(h_1_in)\n",
    "\n",
    "# From first hidden layer to second hidden layer\n",
    "# <--- Your code here --->\n",
    "w_2 = tf.Variable(tf.random_normal([500, 50], stddev=0.1))\n",
    "b_2 = tf.Variable(tf.random_normal([50]))\n",
    "h_2_in = tf.add(tf.matmul(h_1_out, w_2), b_2)\n",
    "h_2_out = tf.nn.relu(h_2_in)\n",
    "# <--- End of your code here --->\n",
    "\n",
    "# From second hidden layer to output\n",
    "w_3 = tf.Variable(tf.random_normal([50, 10], stddev=0.1))\n",
    "b_3 = tf.Variable(tf.random_normal([10]))\n",
    "h_3_in = tf.add(tf.matmul(h_2_out, w_3), b_3)\n",
    "\n",
    "# Output is softmax\n",
    "out = tf.nn.softmax(h_3_in)\n",
    "init_op = tf.global_variables_initializer() "
   ]
  },
  {
   "cell_type": "markdown",
   "metadata": {},
   "source": [
    "### Store the graph and visualize it in tensorflow"
   ]
  },
  {
   "cell_type": "code",
   "execution_count": 22,
   "metadata": {},
   "outputs": [],
   "source": [
    "tf.summary.FileWriter(\"/tmp/dumm/mlp_tensorflow_solution/\", tf.get_default_graph()).close() #<--- Where to store"
   ]
  },
  {
   "cell_type": "markdown",
   "metadata": {},
   "source": [
    "### Doing a forward pass of the untrained network\n",
    "Since we fixed the random seed, you should you should get a result like:"
   ]
  },
  {
   "cell_type": "code",
   "execution_count": 23,
   "metadata": {},
   "outputs": [
    {
     "data": {
      "text/plain": [
       "array([[2.8954923e-01, 6.0280547e-02, 5.3648587e-04, 3.2758262e-02,\n",
       "        3.4571748e-04, 2.1264413e-01, 1.9114131e-01, 1.5138838e-03,\n",
       "        1.6557875e-01, 4.5651730e-02],\n",
       "       [4.1504520e-01, 8.7212622e-02, 2.2648955e-02, 7.1340412e-02,\n",
       "        6.8323514e-03, 5.7461418e-02, 7.4054010e-02, 1.0842062e-02,\n",
       "        2.1011850e-01, 4.4444386e-02]], dtype=float32)"
      ]
     },
     "execution_count": 23,
     "metadata": {},
     "output_type": "execute_result"
    }
   ],
   "source": [
    "with tf.Session() as sess:\n",
    "    sess.run(init_op)\n",
    "    res_val = sess.run(out, feed_dict={x:X[0:2]})\n",
    "res_val## Multinomial Logistic Regression on MNIST dataset"
   ]
  },
  {
   "cell_type": "markdown",
   "metadata": {},
   "source": [
    "### Train the model"
   ]
  },
  {
   "cell_type": "code",
   "execution_count": 19,
   "metadata": {},
   "outputs": [
    {
     "name": "stdout",
     "output_type": "stream",
     "text": [
      "0 Training: loss 2.649405002593994 acc 0.1328125 Validation: loss 2.6301252841949463 acc 0.09166666666666666\n",
      "100 Training: loss 2.0838708877563477 acc 0.390625 Validation: loss 2.0656368732452393 acc 0.41833333333333333\n",
      "200 Training: loss 1.8391813039779663 acc 0.6171875 Validation: loss 1.8639200925827026 acc 0.585\n",
      "300 Training: loss 1.7004406452178955 acc 0.65625 Validation: loss 1.6805205345153809 acc 0.6433333333333333\n",
      "400 Training: loss 1.4611639976501465 acc 0.734375 Validation: loss 1.516510009765625 acc 0.6933333333333334\n",
      "500 Training: loss 1.337066650390625 acc 0.7890625 Validation: loss 1.3706328868865967 acc 0.745\n",
      "600 Training: loss 1.1497403383255005 acc 0.8046875 Validation: loss 1.2438578605651855 acc 0.765\n",
      "700 Training: loss 1.1069817543029785 acc 0.8203125 Validation: loss 1.1352427005767822 acc 0.8\n",
      "800 Training: loss 0.9909569621086121 acc 0.78125 Validation: loss 1.0405488014221191 acc 0.8116666666666666\n",
      "900 Training: loss 0.9558008909225464 acc 0.8359375 Validation: loss 0.956875741481781 acc 0.825\n",
      "1000 Training: loss 0.8719472885131836 acc 0.828125 Validation: loss 0.8867903351783752 acc 0.8316666666666667\n",
      "1100 Training: loss 0.836563229560852 acc 0.8203125 Validation: loss 0.8251620531082153 acc 0.845\n",
      "1200 Training: loss 0.8262534737586975 acc 0.859375 Validation: loss 0.7717899084091187 acc 0.8466666666666667\n",
      "1300 Training: loss 0.7595541477203369 acc 0.8671875 Validation: loss 0.7258205413818359 acc 0.85\n",
      "1400 Training: loss 0.6158224940299988 acc 0.8984375 Validation: loss 0.6866193413734436 acc 0.8616666666666667\n",
      "1500 Training: loss 0.5793743133544922 acc 0.9296875 Validation: loss 0.6507346630096436 acc 0.8666666666666667\n",
      "1600 Training: loss 0.5486763715744019 acc 0.9140625 Validation: loss 0.6204131245613098 acc 0.875\n",
      "1700 Training: loss 0.4831024706363678 acc 0.9296875 Validation: loss 0.5924079418182373 acc 0.875\n",
      "1800 Training: loss 0.5753763914108276 acc 0.8828125 Validation: loss 0.5673596262931824 acc 0.88\n",
      "1900 Training: loss 0.574439287185669 acc 0.875 Validation: loss 0.5459024310112 acc 0.875\n",
      "2000 Training: loss 0.4762076139450073 acc 0.890625 Validation: loss 0.5261854529380798 acc 0.8783333333333333\n",
      "2100 Training: loss 0.47717422246932983 acc 0.9453125 Validation: loss 0.5096591114997864 acc 0.8766666666666667\n",
      "2200 Training: loss 0.46968817710876465 acc 0.890625 Validation: loss 0.495440274477005 acc 0.8766666666666667\n",
      "2300 Training: loss 0.4491148889064789 acc 0.90625 Validation: loss 0.4815879762172699 acc 0.88\n",
      "2400 Training: loss 0.4239920973777771 acc 0.921875 Validation: loss 0.46838733553886414 acc 0.88\n",
      "2500 Training: loss 0.332394540309906 acc 0.9375 Validation: loss 0.45757827162742615 acc 0.8783333333333333\n",
      "2600 Training: loss 0.3845468759536743 acc 0.9609375 Validation: loss 0.4455476403236389 acc 0.8833333333333333\n",
      "2700 Training: loss 0.3161306381225586 acc 0.9375 Validation: loss 0.437094122171402 acc 0.8833333333333333\n",
      "2800 Training: loss 0.34958893060684204 acc 0.9375 Validation: loss 0.427625834941864 acc 0.8883333333333333\n",
      "2900 Training: loss 0.3316304385662079 acc 0.921875 Validation: loss 0.420279860496521 acc 0.8883333333333333\n",
      "3000 Training: loss 0.30912476778030396 acc 0.953125 Validation: loss 0.4127172529697418 acc 0.8883333333333333\n",
      "3100 Training: loss 0.2277655303478241 acc 0.984375 Validation: loss 0.40567082166671753 acc 0.89\n",
      "3200 Training: loss 0.2344619333744049 acc 0.984375 Validation: loss 0.4000949561595917 acc 0.89\n",
      "3300 Training: loss 0.2691671848297119 acc 0.953125 Validation: loss 0.39298221468925476 acc 0.8883333333333333\n",
      "3400 Training: loss 0.24238961935043335 acc 0.953125 Validation: loss 0.3886813223361969 acc 0.8883333333333333\n",
      "3500 Training: loss 0.2450641691684723 acc 0.9765625 Validation: loss 0.38373270630836487 acc 0.89\n",
      "3600 Training: loss 0.3020232319831848 acc 0.921875 Validation: loss 0.3795212507247925 acc 0.89\n",
      "3700 Training: loss 0.21663311123847961 acc 0.9453125 Validation: loss 0.37477225065231323 acc 0.8883333333333333\n",
      "3800 Training: loss 0.23136460781097412 acc 0.9375 Validation: loss 0.3699982464313507 acc 0.89\n",
      "3900 Training: loss 0.18232585489749908 acc 0.984375 Validation: loss 0.3661768436431885 acc 0.8866666666666667\n"
     ]
    }
   ],
   "source": [
    "loss = tf.reduce_mean(-tf.reduce_sum(y_true * tf.log(out), reduction_indices=[1]))\n",
    "# <---- Your code here (fix the optimzer)\n",
    "train_op = tf.train.GradientDescentOptimizer(0.01).minimize(loss)\n",
    "init_op = tf.global_variables_initializer() \n",
    "vals = []\n",
    "with tf.Session() as sess:\n",
    "    sess.run(init_op)\n",
    "    for i in range(4000):\n",
    "        idx = np.random.permutation(2400)[0:128] #Easy minibatch of size 128\n",
    "        loss_, _, res_ = sess.run((loss, train_op,out), feed_dict={x:X[idx], y_true:convertToOneHot(y[idx], 10)})\n",
    "        if (i % 100 == 0):\n",
    "            acc = np.average(np.argmax(res_, axis = 1) == y[idx]) \n",
    "            # <---------   Your code here -----------------\n",
    "            # Get the results for the validation results (from 2400:3000)\n",
    "            # Now calculate loss and result for validation set 2400:3000\n",
    "            loss_v, res_val = sess.run([loss, out], feed_dict={x: X[2400:3000], y_true:convertToOneHot(y[2400:3000], 10)})\n",
    "            acc_v = np.average(np.argmax(res_val, axis = 1) == y[2400:3000])\n",
    "            # <---------  End of your code here\n",
    "            vals.append([loss_, acc, loss_v, acc_v])\n",
    "            print(\"{} Training: loss {} acc {} Validation: loss {} acc {}\".format(i, loss_, acc, loss_v, acc_v))"
   ]
  },
  {
   "cell_type": "code",
   "execution_count": 20,
   "metadata": {},
   "outputs": [
    {
     "data": {
      "text/plain": [
       "<matplotlib.axes._subplots.AxesSubplot at 0x23afbff3fd0>"
      ]
     },
     "execution_count": 20,
     "metadata": {},
     "output_type": "execute_result"
    },
    {
     "data": {
      "image/png": "[encoded data removed]",
      "text/plain": [
       "<matplotlib.figure.Figure at 0x23af6b5f2e8>"
      ]
     },
     "metadata": {},
     "output_type": "display_data"
    }
   ],
   "source": [
    "vals_df = pd.DataFrame(vals)\n",
    "vals_df.columns = ['tr_loss', 'tr_acc', 'val_loss', 'val_acc']\n",
    "vals_df['epochs'] = (np.asarray(range(len(vals_df))) * 100.0 * 128. / 2400)\n",
    "vals_df.plot(ylim = (0,1.05), x='epochs')"
   ]
  },
  {
   "cell_type": "code",
   "execution_count": null,
   "metadata": {},
   "outputs": [],
   "source": []
  }
 ],
 "metadata": {
  "kernelspec": {
   "display_name": "Python 3",
   "language": "python",
   "name": "python3"
  },
  "language_info": {
   "codemirror_mode": {
    "name": "ipython",
    "version": 3
   },
   "file_extension": ".py",
   "mimetype": "text/x-python",
   "name": "python",
   "nbconvert_exporter": "python",
   "pygments_lexer": "ipython3",
   "version": "3.6.4"
  }
 },
 "nbformat": 4,
 "nbformat_minor": 1
}
