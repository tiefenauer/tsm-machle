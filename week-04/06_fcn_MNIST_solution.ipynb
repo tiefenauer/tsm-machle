{
 "cells": [
  {
   "cell_type": "markdown",
   "metadata": {},
   "source": [
    "# Multilayer perceptron in TensorFlow (plain vanilla)\n",
    "\n",
    "In this script we build a small multilayer perceptron with two hidden layers having 500 and 50 neurons each for classifying the MNIST database of handwritten digits."
   ]
  },
  {
   "cell_type": "code",
   "execution_count": 2,
   "metadata": {},
   "outputs": [
    {
     "data": {
      "text/plain": [
       "('1.2.1',\n",
       " sys.version_info(major=3, minor=6, micro=4, releaselevel='final', serial=0))"
      ]
     },
     "execution_count": 2,
     "metadata": {},
     "output_type": "execute_result"
    }
   ],
   "source": [
    "%matplotlib inline\n",
    "import numpy as np\n",
    "import matplotlib.pyplot as plt\n",
    "import matplotlib.image as imgplot\n",
    "import numpy as np\n",
    "import time\n",
    "import tensorflow as tf\n",
    "import pandas as pd\n",
    "tf.set_random_seed(1)\n",
    "np.random.seed(1)\n",
    "import sys\n",
    "tf.__version__, sys.version_info"
   ]
  },
  {
   "cell_type": "code",
   "execution_count": 3,
   "metadata": {},
   "outputs": [
    {
     "name": "stdout",
     "output_type": "stream",
     "text": [
      "(4000, 1, 28, 28) (4000,) 28\n"
     ]
    },
    {
     "data": {
      "text/plain": [
       "(4000, 784)"
      ]
     },
     "execution_count": 3,
     "metadata": {},
     "output_type": "execute_result"
    }
   ],
   "source": [
    "# To be compatible with python3 and python2\n",
    "try:\n",
    "    import cPickle as pickle\n",
    "except ImportError:\n",
    "    import pickle\n",
    "import gzip\n",
    "\n",
    "with gzip.open('../data/mnist_4000.pkl.gz', 'rb') as f:\n",
    "    if sys.version_info.major > 2:\n",
    "        (X,y) = pickle.load(f, encoding='latin1')\n",
    "    else:\n",
    "        (X,y) = pickle.load(f)\n",
    "PIXELS = len(X[0,0,0,:])\n",
    "\n",
    "print(X.shape, y.shape, PIXELS) #As read\n",
    "# We need to reshape for the MLP\n",
    "X = X.reshape([4000, 784])\n",
    "np.shape(X)"
   ]
  },
  {
   "cell_type": "code",
   "execution_count": 4,
   "metadata": {},
   "outputs": [],
   "source": [
    "# Taken from http://stackoverflow.com/questions/29831489/numpy-1-hot-array\n",
    "def convertToOneHot(vector, num_classes=None):\n",
    "    result = np.zeros((len(vector), num_classes), dtype='int32')\n",
    "    result[np.arange(len(vector)), vector] = 1\n",
    "    return result"
   ]
  },
  {
   "cell_type": "markdown",
   "metadata": {},
   "source": [
    "## Building the network\n",
    "Build a network with the following architecture.\n",
    "\n",
    "### Definition of the network (architecture)\n",
    "\n",
    "* An Input Layer with the following 2-dimensions: \n",
    "    * 0: Batch Size yet unkown hence `None`\n",
    "    * 1: 784 = 28*28 pixels\n",
    "* A hidden layer with 500 units\n",
    "* A second hidden layer with 50 units\n",
    "* An output layer with 10 units\n",
    "\n",
    "### Hints\n",
    "* The weights can be specified and intitialized as\n",
    "```{python}\n",
    "    w_1 = tf.Variable(tf.random_normal([784, 500]))\n",
    "```\n",
    "* Use ```tf.nn.sigmoid``` activations for the hidden layer"
   ]
  },
  {
   "cell_type": "code",
   "execution_count": 5,
   "metadata": {},
   "outputs": [],
   "source": [
    "tf.reset_default_graph()\n",
    "tf.set_random_seed(1)\n",
    "x = tf.placeholder(tf.float32, shape=[None, 784], name='x_data')\n",
    "y_true = tf.placeholder(tf.float32, shape=[None, 10], name='y_data')\n",
    "\n",
    "# From Input to first hidden layer\n",
    "w_1 = tf.Variable(tf.random_normal([784, 500], stddev=0.1))\n",
    "b_1 = tf.Variable(tf.random_normal([500]))\n",
    "h_1_in = tf.add(tf.matmul(x, w_1), b_1)\n",
    "h_1_out = tf.nn.relu(h_1_in)\n",
    "\n",
    "# From first hidden layer to second hidden layer\n",
    "# <--- Your code here --->\n",
    "w_2 = tf.Variable(tf.random_normal([500, 50], stddev=0.1))\n",
    "b_2 = tf.Variable(tf.random_normal([50]))\n",
    "h_2_in = tf.add(tf.matmul(h_1_out, w_2), b_2)\n",
    "h_2_out = tf.nn.relu(h_2_in)\n",
    "# <--- End of your code here --->\n",
    "\n",
    "# From second hidden layer to output\n",
    "w_3 = tf.Variable(tf.random_normal([50, 10], stddev=0.1))\n",
    "b_3 = tf.Variable(tf.random_normal([10]))\n",
    "h_3_in = tf.add(tf.matmul(h_2_out, w_3), b_3)\n",
    "\n",
    "# Output is softmax\n",
    "out = tf.nn.softmax(h_3_in)\n",
    "init_op = tf.global_variables_initializer() "
   ]
  },
  {
   "cell_type": "markdown",
   "metadata": {},
   "source": [
    "### Store the graph and visualize it in tensorflow"
   ]
  },
  {
   "cell_type": "code",
   "execution_count": 6,
   "metadata": {},
   "outputs": [],
   "source": [
    "tf.summary.FileWriter(\"/tmp/dumm/mlp_tensorflow_solution/\", tf.get_default_graph()).close() #<--- Where to store"
   ]
  },
  {
   "cell_type": "markdown",
   "metadata": {},
   "source": [
    "### Doing a forward pass of the untrained network\n",
    "Since we fixed the random seed, you should you should get a result like:"
   ]
  },
  {
   "cell_type": "code",
   "execution_count": 7,
   "metadata": {},
   "outputs": [
    {
     "data": {
      "text/plain": [
       "array([[2.8954923e-01, 6.0280547e-02, 5.3648587e-04, 3.2758262e-02,\n",
       "        3.4571748e-04, 2.1264413e-01, 1.9114131e-01, 1.5138838e-03,\n",
       "        1.6557875e-01, 4.5651730e-02],\n",
       "       [4.1504520e-01, 8.7212622e-02, 2.2648955e-02, 7.1340412e-02,\n",
       "        6.8323514e-03, 5.7461418e-02, 7.4054010e-02, 1.0842062e-02,\n",
       "        2.1011850e-01, 4.4444386e-02]], dtype=float32)"
      ]
     },
     "execution_count": 7,
     "metadata": {},
     "output_type": "execute_result"
    }
   ],
   "source": [
    "with tf.Session() as sess:\n",
    "    sess.run(init_op)\n",
    "    res_val = sess.run(out, feed_dict={x:X[0:2]})\n",
    "res_val"
   ]
  },
  {
   "cell_type": "markdown",
   "metadata": {},
   "source": [
    "### Train the model"
   ]
  },
  {
   "cell_type": "code",
   "execution_count": 7,
   "metadata": {},
   "outputs": [
    {
     "name": "stdout",
     "output_type": "stream",
     "text": [
      "0 Training: loss 3.420847177505493 acc 0.140625 Validation: loss 3.239569664001465 acc 0.09666666666666666\n",
      "100 Training: loss 0.7122768759727478 acc 0.78125 Validation: loss 0.8066962361335754 acc 0.775\n",
      "200 Training: loss 0.4015341103076935 acc 0.90625 Validation: loss 0.5736956596374512 acc 0.8316666666666667\n",
      "300 Training: loss 0.35005760192871094 acc 0.90625 Validation: loss 0.49181559681892395 acc 0.8466666666666667\n",
      "400 Training: loss 0.24412362277507782 acc 0.9375 Validation: loss 0.4700329601764679 acc 0.8533333333333334\n",
      "500 Training: loss 0.22291068732738495 acc 0.9296875 Validation: loss 0.4452160596847534 acc 0.8616666666666667\n",
      "600 Training: loss 0.11122415959835052 acc 0.9921875 Validation: loss 0.4285358190536499 acc 0.8716666666666667\n",
      "700 Training: loss 0.2019336223602295 acc 0.9609375 Validation: loss 0.42716410756111145 acc 0.8716666666666667\n",
      "800 Training: loss 0.19144302606582642 acc 0.9765625 Validation: loss 0.4196571707725525 acc 0.88\n",
      "900 Training: loss 0.1800352931022644 acc 0.953125 Validation: loss 0.41778212785720825 acc 0.885\n",
      "1000 Training: loss 0.17194095253944397 acc 0.96875 Validation: loss 0.41806235909461975 acc 0.885\n",
      "1100 Training: loss 0.14041343331336975 acc 0.9609375 Validation: loss 0.41351813077926636 acc 0.8866666666666667\n",
      "1200 Training: loss 0.12684021890163422 acc 0.9609375 Validation: loss 0.41532576084136963 acc 0.8833333333333333\n",
      "1300 Training: loss 0.13663604855537415 acc 0.96875 Validation: loss 0.4183585047721863 acc 0.885\n",
      "1400 Training: loss 0.0612947978079319 acc 0.984375 Validation: loss 0.4174603819847107 acc 0.8866666666666667\n",
      "1500 Training: loss 0.07319310307502747 acc 0.984375 Validation: loss 0.4239251911640167 acc 0.8883333333333333\n",
      "1600 Training: loss 0.0519433431327343 acc 1.0 Validation: loss 0.42211225628852844 acc 0.8866666666666667\n",
      "1700 Training: loss 0.0455843061208725 acc 0.9921875 Validation: loss 0.42556822299957275 acc 0.885\n",
      "1800 Training: loss 0.07270904630422592 acc 0.984375 Validation: loss 0.4244416058063507 acc 0.8866666666666667\n",
      "1900 Training: loss 0.07062903046607971 acc 0.9921875 Validation: loss 0.4254467189311981 acc 0.8916666666666667\n",
      "2000 Training: loss 0.0358058325946331 acc 1.0 Validation: loss 0.42707422375679016 acc 0.89\n",
      "2100 Training: loss 0.039346009492874146 acc 0.9921875 Validation: loss 0.43238088488578796 acc 0.8933333333333333\n",
      "2200 Training: loss 0.043529726564884186 acc 0.9921875 Validation: loss 0.43422552943229675 acc 0.8916666666666667\n",
      "2300 Training: loss 0.050508543848991394 acc 0.9921875 Validation: loss 0.4336739182472229 acc 0.8916666666666667\n",
      "2400 Training: loss 0.03652859479188919 acc 1.0 Validation: loss 0.437501460313797 acc 0.895\n",
      "2500 Training: loss 0.023858606815338135 acc 1.0 Validation: loss 0.4416801929473877 acc 0.8966666666666666\n",
      "2600 Training: loss 0.024141009896993637 acc 1.0 Validation: loss 0.4413423538208008 acc 0.8933333333333333\n",
      "2700 Training: loss 0.02010621875524521 acc 1.0 Validation: loss 0.4427788257598877 acc 0.8916666666666667\n",
      "2800 Training: loss 0.021400343626737595 acc 1.0 Validation: loss 0.44309112429618835 acc 0.8933333333333333\n",
      "2900 Training: loss 0.022537048906087875 acc 1.0 Validation: loss 0.44477784633636475 acc 0.8933333333333333\n",
      "3000 Training: loss 0.02129244990646839 acc 1.0 Validation: loss 0.4486532509326935 acc 0.8966666666666666\n",
      "3100 Training: loss 0.012392541393637657 acc 1.0 Validation: loss 0.4518015682697296 acc 0.8933333333333333\n",
      "3200 Training: loss 0.013959591276943684 acc 1.0 Validation: loss 0.45300495624542236 acc 0.8916666666666667\n",
      "3300 Training: loss 0.0153206130489707 acc 1.0 Validation: loss 0.45439207553863525 acc 0.8933333333333333\n",
      "3400 Training: loss 0.016146540641784668 acc 1.0 Validation: loss 0.45678335428237915 acc 0.8933333333333333\n",
      "3500 Training: loss 0.011758096516132355 acc 1.0 Validation: loss 0.45898428559303284 acc 0.8916666666666667\n",
      "3600 Training: loss 0.020993776619434357 acc 1.0 Validation: loss 0.4605265259742737 acc 0.8933333333333333\n",
      "3700 Training: loss 0.013814525678753853 acc 1.0 Validation: loss 0.46142521500587463 acc 0.895\n",
      "3800 Training: loss 0.012579082511365414 acc 1.0 Validation: loss 0.4609531760215759 acc 0.8916666666666667\n",
      "3900 Training: loss 0.009163101203739643 acc 1.0 Validation: loss 0.46427658200263977 acc 0.8916666666666667\n"
     ]
    }
   ],
   "source": [
    "loss = tf.reduce_mean(-tf.reduce_sum(y_true * tf.log(out), reduction_indices=[1]))\n",
    "# <---- Your code here (fix the optimzer)\n",
    "train_op = tf.train.GradientDescentOptimizer(0.01).minimize(loss)\n",
    "init_op = tf.global_variables_initializer() \n",
    "vals = []\n",
    "with tf.Session() as sess:\n",
    "    sess.run(init_op)\n",
    "    for i in range(4000):\n",
    "        idx = np.random.permutation(2400)[0:128] #Easy minibatch of size 128\n",
    "        loss_, _, res_ = sess.run((loss, train_op,out), feed_dict={x:X[idx], y_true:convertToOneHot(y[idx], 10)})\n",
    "        if (i % 100 == 0):\n",
    "            # Get the results for the validation results (from 2400:3000)\n",
    "            acc = np.average(np.argmax(res_, axis = 1) == y[idx])\n",
    "            # <---------   Your code here -----------------\n",
    "            loss_v, res_val = sess.run([loss, out], feed_dict={x:X[2400:3000], y_true:convertToOneHot(y[2400:3000], 10)})\n",
    "            acc_v = np.average(np.argmax(res_val, axis = 1) == y[2400:3000])\n",
    "            # <---------  End of your code here\n",
    "            vals.append([loss_, acc, loss_v, acc_v])\n",
    "            print(\"{} Training: loss {} acc {} Validation: loss {} acc {}\".format(i, loss_, acc, loss_v, acc_v))"
   ]
  },
  {
   "cell_type": "code",
   "execution_count": 8,
   "metadata": {},
   "outputs": [
    {
     "data": {
      "text/plain": [
       "<matplotlib.axes._subplots.AxesSubplot at 0x7f8b2efb6b38>"
      ]
     },
     "execution_count": 8,
     "metadata": {},
     "output_type": "execute_result"
    },
    {
     "data": {
      "image/png": "[encoded data removed]",
      "text/plain": [
       "<matplotlib.figure.Figure at 0x7f8b2efb60f0>"
      ]
     },
     "metadata": {},
     "output_type": "display_data"
    }
   ],
   "source": [
    "vals_df = pd.DataFrame(vals)\n",
    "vals_df.columns = ['tr_loss', 'tr_acc', 'val_loss', 'val_acc']\n",
    "vals_df['epochs'] = (np.asarray(range(len(vals_df))) * 100.0 * 128. / 2400)\n",
    "vals_df.plot(ylim = (0,1.05), x='epochs')"
   ]
  }
 ],
 "metadata": {
  "kernelspec": {
   "display_name": "Python 3",
   "language": "python",
   "name": "python3"
  },
  "language_info": {
   "codemirror_mode": {
    "name": "ipython",
    "version": 3
   },
   "file_extension": ".py",
   "mimetype": "text/x-python",
   "name": "python",
   "nbconvert_exporter": "python",
   "pygments_lexer": "ipython3",
   "version": "3.6.4"
  }
 },
 "nbformat": 4,
 "nbformat_minor": 1
}
