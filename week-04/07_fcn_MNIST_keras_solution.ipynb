{
 "cells": [
  {
   "cell_type": "markdown",
   "metadata": {},
   "source": [
    "# Tricks of the trade TF/Keras [small dataset]\n",
    "\n",
    "In this script we build a small multilayer perceptron with two hidden layers having 500 and 50 neurons each for classifying the MNIST database of handwritten digits using Keras. It uses a small data set so that it can be trained on the CPU.\n",
    "\n",
    "Below are several experiments."
   ]
  },
  {
   "cell_type": "code",
   "execution_count": 1,
   "metadata": {
    "scrolled": true
   },
   "outputs": [
    {
     "name": "stderr",
     "output_type": "stream",
     "text": [
      "Using TensorFlow backend.\n"
     ]
    },
    {
     "name": "stdout",
     "output_type": "stream",
     "text": [
      "Keras 2.1.4 TF 1.1.0 Python sys.version_info(major=3, minor=6, micro=4, releaselevel='final', serial=0)\n",
      "(4000, 1, 28, 28) (4000,) 28\n"
     ]
    }
   ],
   "source": [
    "%matplotlib inline\n",
    "import numpy as np\n",
    "import matplotlib.pyplot as plt\n",
    "import matplotlib.image as imgplot\n",
    "import numpy as np\n",
    "\n",
    "import time\n",
    "import tensorflow as tf\n",
    "tf.set_random_seed(1)\n",
    "\n",
    "from keras.models import Sequential\n",
    "from keras.layers import Dense, Activation, Dropout, BatchNormalization\n",
    "import keras\n",
    "import sys\n",
    "print (\"Keras {} TF {} Python {}\".format(keras.__version__, tf.__version__, sys.version_info))\n",
    "\n",
    "# To be compatible with python3 and python2\n",
    "try:\n",
    "    import cPickle as pickle\n",
    "except ImportError:\n",
    "    import pickle\n",
    "import gzip\n",
    "\n",
    "with gzip.open('../data/mnist_4000.pkl.gz', 'rb') as f:\n",
    "    if sys.version_info.major > 2:\n",
    "        (X,y) = pickle.load(f, encoding='latin1')\n",
    "    else:\n",
    "        (X,y) = pickle.load(f)\n",
    "PIXELS = len(X[0,0,0,:])\n",
    "\n",
    "print(X.shape, y.shape, PIXELS) #As read\n",
    "# We need to reshape for the MLP\n",
    "X = X.reshape([4000, 784])\n",
    "np.shape(X)\n",
    "\n",
    "# Taken from http://stackoverflow.com/questions/29831489/numpy-1-hot-array\n",
    "def convertToOneHot(vector, num_classes=None):\n",
    "    result = np.zeros((len(vector), num_classes), dtype='int32')\n",
    "    result[np.arange(len(vector)), vector] = 1\n",
    "    return result"
   ]
  },
  {
   "cell_type": "markdown",
   "metadata": {},
   "source": [
    "### Suggestions for the experiment\n",
    "\n",
    "Let the experiments run for 100 epochs. You might need to restart the kernel so that namings of the layers are the same\n",
    "\n",
    "* with init zero \n",
    "* with sigmoid activation \n",
    "* with ReLU activation\n",
    "* with dropout (p=0.3)\n",
    "* with batch-normalization and dropout"
   ]
  },
  {
   "cell_type": "code",
   "execution_count": 2,
   "metadata": {},
   "outputs": [
    {
     "name": "stderr",
     "output_type": "stream",
     "text": [
      "C:\\Users\\Daniel\\Anaconda3\\envs\\dl_course\\lib\\site-packages\\ipykernel_launcher.py:4: UserWarning: Update your `Dense` call to the Keras 2 API: `Dense(500, batch_input_shape=(None, 784..., kernel_initializer=\"zero\")`\n",
      "  after removing the cwd from sys.path.\n",
      "C:\\Users\\Daniel\\Anaconda3\\envs\\dl_course\\lib\\site-packages\\ipykernel_launcher.py:7: UserWarning: Update your `Dense` call to the Keras 2 API: `Dense(50, kernel_initializer=\"zero\")`\n",
      "  import sys\n",
      "C:\\Users\\Daniel\\Anaconda3\\envs\\dl_course\\lib\\site-packages\\ipykernel_launcher.py:10: UserWarning: Update your `Dense` call to the Keras 2 API: `Dense(10, activation=\"softmax\", kernel_initializer=\"zero\")`\n",
      "  # Remove the CWD from sys.path while we load stuff.\n"
     ]
    }
   ],
   "source": [
    "### First model with all zeros\n",
    "name = 'sigmoid_init0'\n",
    "model = Sequential()\n",
    "model.add(Dense(500, batch_input_shape=(None, 784), init='zero'))\n",
    "model.add(Activation('sigmoid'))\n",
    "\n",
    "model.add(Dense(50,init='zero'))\n",
    "model.add(Activation('sigmoid'))\n",
    "\n",
    "model.add(Dense(10, activation='softmax',init='zero'))\n",
    "model.compile(loss='categorical_crossentropy',\n",
    "              optimizer='adadelta',\n",
    "              metrics=['accuracy'])"
   ]
  },
  {
   "cell_type": "code",
   "execution_count": 3,
   "metadata": {},
   "outputs": [],
   "source": [
    "### Model with default initialization \n",
    "name = 'sigmoid'\n",
    "model = Sequential()\n",
    "\n",
    "model.add(Dense(500, batch_input_shape=(None, 784)))\n",
    "model.add(Activation('sigmoid'))\n",
    "\n",
    "model.add(Dense(50))\n",
    "model.add(Activation('sigmoid'))\n",
    "\n",
    "model.add(Dense(10, activation='softmax'))\n",
    "model.compile(loss='categorical_crossentropy',\n",
    "              optimizer='adadelta',\n",
    "              metrics=['accuracy'])"
   ]
  },
  {
   "cell_type": "code",
   "execution_count": 4,
   "metadata": {},
   "outputs": [],
   "source": [
    "### Relu \n",
    "name = 'relu'\n",
    "model = Sequential()\n",
    "\n",
    "model.add(Dense(500, batch_input_shape=(None, 784)))\n",
    "model.add(Activation('relu'))\n",
    "\n",
    "model.add(Dense(50))\n",
    "model.add(Activation('relu'))\n",
    "\n",
    "model.add(Dense(10, activation='softmax'))\n",
    "model.compile(loss='categorical_crossentropy',\n",
    "              optimizer='adadelta',\n",
    "              metrics=['accuracy'])"
   ]
  },
  {
   "cell_type": "code",
   "execution_count": 5,
   "metadata": {},
   "outputs": [],
   "source": [
    "### Dropout\n",
    "name = 'dropout'\n",
    "model = Sequential()\n",
    "model.add(Dense(500, batch_input_shape=(None, 784)))\n",
    "model.add(Dropout(0.3))\n",
    "model.add(Activation('relu'))\n",
    "\n",
    "model.add(Dense(50))\n",
    "model.add(Dropout(0.3))\n",
    "model.add(Activation('relu'))\n",
    "\n",
    "model.add(Dense(10, activation='softmax'))\n",
    "model.compile(loss='categorical_crossentropy',\n",
    "              optimizer='adadelta',\n",
    "              metrics=['accuracy'])"
   ]
  },
  {
   "cell_type": "code",
   "execution_count": 6,
   "metadata": {},
   "outputs": [],
   "source": [
    "### Model with default initialization \n",
    "name = 'batch_dropout'\n",
    "model = Sequential()\n",
    "\n",
    "model.add(Dense(500, batch_input_shape=(None, 784)))\n",
    "model.add(keras.layers.normalization.BatchNormalization())\n",
    "model.add(Dropout(0.3))\n",
    "model.add(Activation('relu'))\n",
    "\n",
    "model.add(Dense(50))\n",
    "model.add(keras.layers.normalization.BatchNormalization())\n",
    "model.add(Dropout(0.3))\n",
    "model.add(Activation('relu'))\n",
    "\n",
    "model.add(Dense(10, activation='softmax'))\n",
    "model.compile(loss='categorical_crossentropy',\n",
    "              optimizer='adadelta',\n",
    "              metrics=['accuracy'])"
   ]
  },
  {
   "cell_type": "code",
   "execution_count": 7,
   "metadata": {},
   "outputs": [
    {
     "name": "stdout",
     "output_type": "stream",
     "text": [
      "_________________________________________________________________\n",
      "Layer (type)                 Output Shape              Param #   \n",
      "=================================================================\n",
      "dense_13 (Dense)             (None, 500)               392500    \n",
      "_________________________________________________________________\n",
      "batch_normalization_1 (Batch (None, 500)               2000      \n",
      "_________________________________________________________________\n",
      "dropout_3 (Dropout)          (None, 500)               0         \n",
      "_________________________________________________________________\n",
      "activation_9 (Activation)    (None, 500)               0         \n",
      "_________________________________________________________________\n",
      "dense_14 (Dense)             (None, 50)                25050     \n",
      "_________________________________________________________________\n",
      "batch_normalization_2 (Batch (None, 50)                200       \n",
      "_________________________________________________________________\n",
      "dropout_4 (Dropout)          (None, 50)                0         \n",
      "_________________________________________________________________\n",
      "activation_10 (Activation)   (None, 50)                0         \n",
      "_________________________________________________________________\n",
      "dense_15 (Dense)             (None, 10)                510       \n",
      "=================================================================\n",
      "Total params: 420,260\n",
      "Trainable params: 419,160\n",
      "Non-trainable params: 1,100\n",
      "_________________________________________________________________\n"
     ]
    }
   ],
   "source": [
    "model.summary()"
   ]
  },
  {
   "cell_type": "markdown",
   "metadata": {},
   "source": [
    "### Untrained model\n"
   ]
  },
  {
   "cell_type": "code",
   "execution_count": 8,
   "metadata": {},
   "outputs": [
    {
     "data": {
      "text/plain": [
       "-2.3025850929940455"
      ]
     },
     "execution_count": 8,
     "metadata": {},
     "output_type": "execute_result"
    }
   ],
   "source": [
    "np.log(0.1)"
   ]
  },
  {
   "cell_type": "code",
   "execution_count": 9,
   "metadata": {},
   "outputs": [
    {
     "name": "stdout",
     "output_type": "stream",
     "text": [
      "2000/2000 [==============================] - 1s 298us/step\n"
     ]
    },
    {
     "data": {
      "text/plain": [
       "[2.5692700843811034, 0.074999999999999997]"
      ]
     },
     "execution_count": 9,
     "metadata": {},
     "output_type": "execute_result"
    }
   ],
   "source": [
    "model.evaluate(X[0:2000], convertToOneHot(y[0:2000],10))"
   ]
  },
  {
   "cell_type": "code",
   "execution_count": 10,
   "metadata": {},
   "outputs": [
    {
     "data": {
      "text/plain": [
       "array([1, 4, 4, 8, 4, 4, 4, 4, 4, 4], dtype=int64)"
      ]
     },
     "execution_count": 10,
     "metadata": {},
     "output_type": "execute_result"
    }
   ],
   "source": [
    "model.predict_classes(X[0:10])"
   ]
  },
  {
   "cell_type": "code",
   "execution_count": 11,
   "metadata": {},
   "outputs": [],
   "source": [
    "#model.save('/tmp/start.keras')\n",
    "#%ls -hl /tmp/start.keras"
   ]
  },
  {
   "cell_type": "markdown",
   "metadata": {},
   "source": [
    "## Training"
   ]
  },
  {
   "cell_type": "code",
   "execution_count": 12,
   "metadata": {
    "scrolled": true
   },
   "outputs": [
    {
     "name": "stderr",
     "output_type": "stream",
     "text": [
      "C:\\Users\\Daniel\\Anaconda3\\envs\\dl_course\\lib\\site-packages\\keras\\models.py:942: UserWarning: The `nb_epoch` argument in `fit` has been renamed `epochs`.\n",
      "  warnings.warn('The `nb_epoch` argument in `fit` '\n"
     ]
    },
    {
     "name": "stdout",
     "output_type": "stream",
     "text": [
      "Train on 2400 samples, validate on 600 samples\n",
      "Epoch 1/100\n",
      " - 1s - loss: 1.3956 - acc: 0.5738 - val_loss: 0.6795 - val_acc: 0.8433\n",
      "Epoch 2/100\n",
      " - 0s - loss: 0.7358 - acc: 0.8213 - val_loss: 0.5124 - val_acc: 0.8867\n",
      "Epoch 3/100\n",
      " - 0s - loss: 0.5527 - acc: 0.8817 - val_loss: 0.4288 - val_acc: 0.8883\n",
      "Epoch 4/100\n",
      " - 0s - loss: 0.4467 - acc: 0.9108 - val_loss: 0.3814 - val_acc: 0.9017\n",
      "Epoch 5/100\n",
      " - 0s - loss: 0.3728 - acc: 0.9288 - val_loss: 0.3509 - val_acc: 0.9067\n",
      "Epoch 6/100\n",
      " - 0s - loss: 0.3035 - acc: 0.9400 - val_loss: 0.3270 - val_acc: 0.9083\n",
      "Epoch 7/100\n",
      " - 0s - loss: 0.2780 - acc: 0.9417 - val_loss: 0.3199 - val_acc: 0.9167\n",
      "Epoch 8/100\n",
      " - 0s - loss: 0.2322 - acc: 0.9579 - val_loss: 0.3063 - val_acc: 0.9150\n",
      "Epoch 9/100\n",
      " - 0s - loss: 0.2209 - acc: 0.9542 - val_loss: 0.3073 - val_acc: 0.9150\n",
      "Epoch 10/100\n",
      " - 0s - loss: 0.1752 - acc: 0.9696 - val_loss: 0.3102 - val_acc: 0.9100\n",
      "Epoch 11/100\n",
      " - 0s - loss: 0.1524 - acc: 0.9738 - val_loss: 0.3078 - val_acc: 0.9150\n",
      "Epoch 12/100\n",
      " - 0s - loss: 0.1375 - acc: 0.9750 - val_loss: 0.3019 - val_acc: 0.9150\n",
      "Epoch 13/100\n",
      " - 0s - loss: 0.1195 - acc: 0.9829 - val_loss: 0.3020 - val_acc: 0.9083\n",
      "Epoch 14/100\n",
      " - 0s - loss: 0.1056 - acc: 0.9837 - val_loss: 0.3057 - val_acc: 0.9133\n",
      "Epoch 15/100\n",
      " - 0s - loss: 0.0974 - acc: 0.9854 - val_loss: 0.2932 - val_acc: 0.9133\n",
      "Epoch 16/100\n",
      " - 0s - loss: 0.0882 - acc: 0.9850 - val_loss: 0.2934 - val_acc: 0.9150\n",
      "Epoch 17/100\n",
      " - 0s - loss: 0.0764 - acc: 0.9871 - val_loss: 0.2898 - val_acc: 0.9200\n",
      "Epoch 18/100\n",
      " - 0s - loss: 0.0732 - acc: 0.9883 - val_loss: 0.2957 - val_acc: 0.9217\n",
      "Epoch 19/100\n",
      " - 0s - loss: 0.0681 - acc: 0.9896 - val_loss: 0.2962 - val_acc: 0.9183\n",
      "Epoch 20/100\n",
      " - 0s - loss: 0.0559 - acc: 0.9917 - val_loss: 0.3071 - val_acc: 0.9150\n",
      "Epoch 21/100\n",
      " - 0s - loss: 0.0575 - acc: 0.9883 - val_loss: 0.3104 - val_acc: 0.9200\n",
      "Epoch 22/100\n",
      " - 0s - loss: 0.0486 - acc: 0.9942 - val_loss: 0.3045 - val_acc: 0.9200\n",
      "Epoch 23/100\n",
      " - 0s - loss: 0.0476 - acc: 0.9908 - val_loss: 0.3119 - val_acc: 0.9233\n",
      "Epoch 24/100\n",
      " - 0s - loss: 0.0431 - acc: 0.9925 - val_loss: 0.3185 - val_acc: 0.9250\n",
      "Epoch 25/100\n",
      " - 0s - loss: 0.0392 - acc: 0.9942 - val_loss: 0.3231 - val_acc: 0.9217\n",
      "Epoch 26/100\n",
      " - 0s - loss: 0.0366 - acc: 0.9962 - val_loss: 0.3168 - val_acc: 0.9267\n",
      "Epoch 27/100\n",
      " - 0s - loss: 0.0311 - acc: 0.9962 - val_loss: 0.3228 - val_acc: 0.9267\n",
      "Epoch 28/100\n",
      " - 0s - loss: 0.0277 - acc: 0.9967 - val_loss: 0.3272 - val_acc: 0.9250\n",
      "Epoch 29/100\n",
      " - 0s - loss: 0.0277 - acc: 0.9954 - val_loss: 0.3311 - val_acc: 0.9200\n",
      "Epoch 30/100\n",
      " - 0s - loss: 0.0267 - acc: 0.9967 - val_loss: 0.3234 - val_acc: 0.9217\n",
      "Epoch 31/100\n",
      " - 0s - loss: 0.0302 - acc: 0.9958 - val_loss: 0.3308 - val_acc: 0.9217\n",
      "Epoch 32/100\n",
      " - 0s - loss: 0.0213 - acc: 0.9967 - val_loss: 0.3322 - val_acc: 0.9233\n",
      "Epoch 33/100\n",
      " - 1s - loss: 0.0235 - acc: 0.9971 - val_loss: 0.3401 - val_acc: 0.9233\n",
      "Epoch 34/100\n",
      " - 1s - loss: 0.0215 - acc: 0.9971 - val_loss: 0.3522 - val_acc: 0.9283\n",
      "Epoch 35/100\n",
      " - 0s - loss: 0.0213 - acc: 0.9954 - val_loss: 0.3479 - val_acc: 0.9283\n",
      "Epoch 36/100\n",
      " - 0s - loss: 0.0198 - acc: 0.9979 - val_loss: 0.3487 - val_acc: 0.9233\n",
      "Epoch 37/100\n",
      " - 0s - loss: 0.0226 - acc: 0.9950 - val_loss: 0.3540 - val_acc: 0.9233\n",
      "Epoch 38/100\n",
      " - 0s - loss: 0.0162 - acc: 0.9975 - val_loss: 0.3589 - val_acc: 0.9183\n",
      "Epoch 39/100\n",
      " - 1s - loss: 0.0136 - acc: 0.9996 - val_loss: 0.3546 - val_acc: 0.9250\n",
      "Epoch 40/100\n",
      " - 1s - loss: 0.0174 - acc: 0.9975 - val_loss: 0.3538 - val_acc: 0.9183\n",
      "Epoch 41/100\n",
      " - 1s - loss: 0.0160 - acc: 0.9962 - val_loss: 0.3671 - val_acc: 0.9200\n",
      "Epoch 42/100\n",
      " - 1s - loss: 0.0142 - acc: 0.9988 - val_loss: 0.3827 - val_acc: 0.9133\n",
      "Epoch 43/100\n",
      " - 0s - loss: 0.0132 - acc: 0.9988 - val_loss: 0.3810 - val_acc: 0.9167\n",
      "Epoch 44/100\n",
      " - 0s - loss: 0.0132 - acc: 0.9992 - val_loss: 0.3869 - val_acc: 0.9217\n",
      "Epoch 45/100\n",
      " - 0s - loss: 0.0154 - acc: 0.9975 - val_loss: 0.3886 - val_acc: 0.9217\n",
      "Epoch 46/100\n",
      " - 0s - loss: 0.0126 - acc: 0.9971 - val_loss: 0.3832 - val_acc: 0.9217\n",
      "Epoch 47/100\n",
      " - 1s - loss: 0.0124 - acc: 0.9988 - val_loss: 0.3948 - val_acc: 0.9117\n",
      "Epoch 48/100\n",
      " - 0s - loss: 0.0139 - acc: 0.9971 - val_loss: 0.3981 - val_acc: 0.9117\n",
      "Epoch 49/100\n",
      " - 1s - loss: 0.0111 - acc: 0.9983 - val_loss: 0.4147 - val_acc: 0.9183\n",
      "Epoch 50/100\n",
      " - 1s - loss: 0.0116 - acc: 0.9983 - val_loss: 0.4040 - val_acc: 0.9217\n",
      "Epoch 51/100\n",
      " - 0s - loss: 0.0098 - acc: 0.9983 - val_loss: 0.4054 - val_acc: 0.9200\n",
      "Epoch 52/100\n",
      " - 0s - loss: 0.0130 - acc: 0.9971 - val_loss: 0.4080 - val_acc: 0.9217\n",
      "Epoch 53/100\n",
      " - 0s - loss: 0.0090 - acc: 0.9992 - val_loss: 0.3954 - val_acc: 0.9200\n",
      "Epoch 54/100\n",
      " - 0s - loss: 0.0110 - acc: 0.9971 - val_loss: 0.3967 - val_acc: 0.9217\n",
      "Epoch 55/100\n",
      " - 1s - loss: 0.0085 - acc: 0.9988 - val_loss: 0.4010 - val_acc: 0.9250\n",
      "Epoch 56/100\n",
      " - 1s - loss: 0.0084 - acc: 0.9992 - val_loss: 0.4024 - val_acc: 0.9217\n",
      "Epoch 57/100\n",
      " - 0s - loss: 0.0086 - acc: 0.9983 - val_loss: 0.4133 - val_acc: 0.9250\n",
      "Epoch 58/100\n",
      " - 0s - loss: 0.0083 - acc: 0.9983 - val_loss: 0.4210 - val_acc: 0.9250\n",
      "Epoch 59/100\n",
      " - 0s - loss: 0.0064 - acc: 0.9992 - val_loss: 0.4125 - val_acc: 0.9183\n",
      "Epoch 60/100\n",
      " - 0s - loss: 0.0110 - acc: 0.9983 - val_loss: 0.4338 - val_acc: 0.9250\n",
      "Epoch 61/100\n",
      " - 0s - loss: 0.0099 - acc: 0.9983 - val_loss: 0.4178 - val_acc: 0.9217\n",
      "Epoch 62/100\n",
      " - 0s - loss: 0.0068 - acc: 0.9992 - val_loss: 0.4252 - val_acc: 0.9217\n",
      "Epoch 63/100\n",
      " - 0s - loss: 0.0073 - acc: 0.9988 - val_loss: 0.4122 - val_acc: 0.9233\n",
      "Epoch 64/100\n",
      " - 1s - loss: 0.0073 - acc: 0.9992 - val_loss: 0.4194 - val_acc: 0.9183\n",
      "Epoch 65/100\n",
      " - 1s - loss: 0.0077 - acc: 0.9988 - val_loss: 0.4135 - val_acc: 0.9200\n",
      "Epoch 66/100\n",
      " - 0s - loss: 0.0081 - acc: 0.9979 - val_loss: 0.4333 - val_acc: 0.9267\n",
      "Epoch 67/100\n",
      " - 0s - loss: 0.0088 - acc: 0.9992 - val_loss: 0.4306 - val_acc: 0.9217\n",
      "Epoch 68/100\n",
      " - 0s - loss: 0.0077 - acc: 0.9988 - val_loss: 0.4202 - val_acc: 0.9200\n",
      "Epoch 69/100\n",
      " - 0s - loss: 0.0066 - acc: 0.9979 - val_loss: 0.4245 - val_acc: 0.9233\n",
      "Epoch 70/100\n",
      " - 0s - loss: 0.0061 - acc: 1.0000 - val_loss: 0.4289 - val_acc: 0.9250\n",
      "Epoch 71/100\n",
      " - 0s - loss: 0.0076 - acc: 0.9988 - val_loss: 0.4240 - val_acc: 0.9250\n",
      "Epoch 72/100\n",
      " - 0s - loss: 0.0063 - acc: 0.9988 - val_loss: 0.4183 - val_acc: 0.9233\n",
      "Epoch 73/100\n",
      " - 0s - loss: 0.0058 - acc: 0.9992 - val_loss: 0.4156 - val_acc: 0.9267\n",
      "Epoch 74/100\n",
      " - 0s - loss: 0.0063 - acc: 0.9988 - val_loss: 0.4164 - val_acc: 0.9267\n",
      "Epoch 75/100\n",
      " - 0s - loss: 0.0087 - acc: 0.9975 - val_loss: 0.4300 - val_acc: 0.9283\n",
      "Epoch 76/100\n",
      " - 0s - loss: 0.0059 - acc: 0.9988 - val_loss: 0.4464 - val_acc: 0.9200\n",
      "Epoch 77/100\n",
      " - 0s - loss: 0.0061 - acc: 0.9992 - val_loss: 0.4421 - val_acc: 0.9233\n",
      "Epoch 78/100\n",
      " - 1s - loss: 0.0073 - acc: 0.9988 - val_loss: 0.4530 - val_acc: 0.9200\n",
      "Epoch 79/100\n",
      " - 0s - loss: 0.0046 - acc: 0.9996 - val_loss: 0.4471 - val_acc: 0.9250\n",
      "Epoch 80/100\n",
      " - 0s - loss: 0.0058 - acc: 0.9996 - val_loss: 0.4337 - val_acc: 0.9283\n",
      "Epoch 81/100\n",
      " - 0s - loss: 0.0052 - acc: 0.9996 - val_loss: 0.4463 - val_acc: 0.9217\n",
      "Epoch 82/100\n",
      " - 0s - loss: 0.0060 - acc: 0.9992 - val_loss: 0.4604 - val_acc: 0.9233\n",
      "Epoch 83/100\n",
      " - 0s - loss: 0.0063 - acc: 0.9979 - val_loss: 0.4545 - val_acc: 0.9250\n",
      "Epoch 84/100\n",
      " - 0s - loss: 0.0056 - acc: 0.9992 - val_loss: 0.4565 - val_acc: 0.9200\n",
      "Epoch 85/100\n",
      " - 0s - loss: 0.0044 - acc: 0.9996 - val_loss: 0.4455 - val_acc: 0.9250\n",
      "Epoch 86/100\n",
      " - 0s - loss: 0.0067 - acc: 0.9979 - val_loss: 0.4554 - val_acc: 0.9200\n",
      "Epoch 87/100\n",
      " - 1s - loss: 0.0039 - acc: 1.0000 - val_loss: 0.4512 - val_acc: 0.9217\n",
      "Epoch 88/100\n",
      " - 0s - loss: 0.0047 - acc: 0.9992 - val_loss: 0.4572 - val_acc: 0.9217\n",
      "Epoch 89/100\n",
      " - 0s - loss: 0.0040 - acc: 0.9992 - val_loss: 0.4582 - val_acc: 0.9250\n",
      "Epoch 90/100\n",
      " - 0s - loss: 0.0031 - acc: 1.0000 - val_loss: 0.4585 - val_acc: 0.9233\n",
      "Epoch 91/100\n",
      " - 0s - loss: 0.0033 - acc: 1.0000 - val_loss: 0.4629 - val_acc: 0.9267\n",
      "Epoch 92/100\n",
      " - 0s - loss: 0.0050 - acc: 0.9992 - val_loss: 0.4709 - val_acc: 0.9250\n",
      "Epoch 93/100\n",
      " - 0s - loss: 0.0035 - acc: 0.9996 - val_loss: 0.4718 - val_acc: 0.9250\n",
      "Epoch 94/100\n",
      " - 1s - loss: 0.0037 - acc: 0.9996 - val_loss: 0.4729 - val_acc: 0.9200\n",
      "Epoch 95/100\n",
      " - 1s - loss: 0.0042 - acc: 0.9996 - val_loss: 0.4798 - val_acc: 0.9217\n",
      "Epoch 96/100\n",
      " - 0s - loss: 0.0063 - acc: 0.9988 - val_loss: 0.4687 - val_acc: 0.9233\n"
     ]
    },
    {
     "name": "stdout",
     "output_type": "stream",
     "text": [
      "Epoch 97/100\n",
      " - 0s - loss: 0.0047 - acc: 0.9992 - val_loss: 0.4706 - val_acc: 0.9200\n",
      "Epoch 98/100\n",
      " - 1s - loss: 0.0023 - acc: 1.0000 - val_loss: 0.4552 - val_acc: 0.9250\n",
      "Epoch 99/100\n",
      " - 0s - loss: 0.0045 - acc: 0.9992 - val_loss: 0.4568 - val_acc: 0.9183\n",
      "Epoch 100/100\n",
      " - 1s - loss: 0.0038 - acc: 0.9988 - val_loss: 0.4596 - val_acc: 0.9200\n"
     ]
    }
   ],
   "source": [
    "tensorboard = keras.callbacks.TensorBoard(\n",
    "    log_dir='tensorboard/mnist_small/' + name + '/', \n",
    "    write_graph=True,\n",
    "    histogram_freq=1\n",
    ")\n",
    "history = model.fit(X[0:2400], \n",
    "          convertToOneHot(y[0:2400],10), \n",
    "          nb_epoch=100, \n",
    "          batch_size=128, \n",
    "          callbacks=[tensorboard],\n",
    "          validation_data=[X[2400:3000], convertToOneHot(y[2400:3000],10)], verbose=2)\n",
    "\n",
    "# Attention, if you run this in a docker container, setting verbose=1 sometimes kills the whole container \n",
    "# ERRO[0695] error getting events from daemon: EOF\n",
    "\n",
    "# Sometimes also the TensorBoard callback kills the container"
   ]
  },
  {
   "cell_type": "code",
   "execution_count": 13,
   "metadata": {},
   "outputs": [
    {
     "data": {
      "image/png": "[encoded data removed]",
      "text/plain": [
       "<matplotlib.figure.Figure at 0x2069f7b1710>"
      ]
     },
     "metadata": {},
     "output_type": "display_data"
    }
   ],
   "source": [
    "plt.plot(history.history['acc'])\n",
    "plt.plot(history.history['val_acc'])\n",
    "plt.title('model accuracy')\n",
    "plt.ylabel('accuracy')\n",
    "plt.xlabel('epoch')\n",
    "plt.legend(['train acc', 'test acc'], loc='lower right')\n",
    "plt.show()"
   ]
  },
  {
   "cell_type": "code",
   "execution_count": 14,
   "metadata": {},
   "outputs": [
    {
     "data": {
      "image/png": "[encoded data removed]",
      "text/plain": [
       "<matplotlib.figure.Figure at 0x206af3ae668>"
      ]
     },
     "metadata": {},
     "output_type": "display_data"
    }
   ],
   "source": [
    "plt.plot(history.history['loss'])\n",
    "plt.plot(history.history['val_loss'])\n",
    "plt.title('model loss')\n",
    "plt.ylabel('loss')\n",
    "plt.xlabel('epoch')\n",
    "plt.legend(['train loss', 'test loss'], loc='upper right')\n",
    "plt.show()"
   ]
  },
  {
   "cell_type": "code",
   "execution_count": null,
   "metadata": {},
   "outputs": [],
   "source": [
    "!tensorboard --logdir=tensorboard/mnist_small/"
   ]
  }
 ],
 "metadata": {
  "kernelspec": {
   "display_name": "Python 3",
   "language": "python",
   "name": "python3"
  },
  "language_info": {
   "codemirror_mode": {
    "name": "ipython",
    "version": 3
   },
   "file_extension": ".py",
   "mimetype": "text/x-python",
   "name": "python",
   "nbconvert_exporter": "python",
   "pygments_lexer": "ipython3",
   "version": "3.6.4"
  }
 },
 "nbformat": 4,
 "nbformat_minor": 1
}
